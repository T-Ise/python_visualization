{
 "cells": [
  {
   "cell_type": "markdown",
   "id": "42696fc2-da59-4eeb-a95f-a964af740e5c",
   "metadata": {},
   "source": [
    "# カテゴリデータの可視化"
   ]
  },
  {
   "cell_type": "code",
   "execution_count": null,
   "id": "d7804584-09db-4db1-b26a-cb196f0fbf5d",
   "metadata": {},
   "outputs": [],
   "source": [
    "import numpy as np\n",
    "import pandas as pd\n",
    "import matplotlib.pyplot as plt\n",
    "import seaborn as sns\n",
    "sns.set_theme(style=\"darkgrid\")"
   ]
  },
  {
   "cell_type": "markdown",
   "id": "6924b467-316f-4791-87dc-5bce8c4c7be3",
   "metadata": {},
   "source": [
    "「統計的関係の可視化」では、データセット中の複数の変数間の関係を示すために、さまざまな視覚的表現を使用する方法を見ました。  \n",
    "例題では、主な関係が2つの数値変数の間にある場合に焦点を当てました。  \n",
    "もし主変数の1つが \"カテゴリカル\"（離散的なグループに分けられる）であれば、より専門的な視覚化のアプローチを使うことが役に立つかもしれません。\n",
    "\n",
    "seabornでは、カテゴリデータを含む関係を可視化するいくつかの異なる方法があります。  \n",
    "`relplot()`と`scatterplot()`または`lineplot()`の関係と同様に、これらのプロットを作成するには2つの方法があります。  \n",
    "カテゴリカルデータをさまざまな方法でプロットするための軸レベルの関数と、それらに統一的にアクセスするための図レベルのインターフェースである`catplot()`があります。\n",
    "\n",
    "異なるカテゴリカルプロットの種類を3つの異なるファミリーに属すると考えると便利です。"
   ]
  },
  {
   "cell_type": "markdown",
   "id": "3189eacd-81fa-465f-b44d-e61e5cbaac3d",
   "metadata": {},
   "source": [
    "**カテゴリ散布図**\n",
    "\n",
    "- `stripplot()` (kind=\"strip\" デフォルト)\n",
    "- `swarmplot()` (kind=\"swarm\")\n",
    "\n",
    "**カテゴリ分布プロット**\n",
    "\n",
    "- `boxplot()` (kind=\"box\")\n",
    "- `violinplot()` (kind=\"violin\")\n",
    "- `boxenplot()` (kind=\"boxen\")\n",
    "\n",
    "**カテゴリー推定プロット**\n",
    "\n",
    "- `pointplot()` (kind=\"point\")\n",
    "- `barplot()` (kind=\"bar\")\n",
    "- `countplot()` (kind=\"count\")"
   ]
  },
  {
   "cell_type": "markdown",
   "id": "282d8aed-d700-4658-a327-7cfe8ea544a8",
   "metadata": {},
   "source": [
    "これらのファミリーは、さまざまなレベルの粒度を使用してデータを表します。  \n",
    "どれを使うかを決める際には、答えたい質問について考える必要があります。  \n",
    "統一されたAPIを使えば、異なる種類を簡単に切り替えて、複数の視点からデータを見ることができます。\n",
    "\n",
    "本項では、主に図レベルのインターフェースである`catplot()`に焦点を当てます。  \n",
    "この関数は、上記の各関数の上位インターフェイスであることを覚えておいてください。  \n",
    "\n",
    "したがって、各プロットを表示する際には、より冗長な種類固有のAPIドキュメントを手元に置きながら、それらを参照することになります。"
   ]
  },
  {
   "cell_type": "markdown",
   "id": "7a191e23-592d-4973-8f4a-81722aaa021b",
   "metadata": {},
   "source": [
    "## カテゴリー散布図\n",
    "\n",
    "`catplot()`のデフォルトのデータ表現は散布図です。  \n",
    "seabornには2つの異なるカテゴリ散布図があります。  \n",
    "これらは、カテゴリデータを散布図で表現する際の主な課題である、1つのカテゴリに属するすべての点がカテゴリ変数に対応する軸に沿って同じ位置にあるという問題を解決するために、異なるアプローチを取っています。  \n",
    "\n",
    "`catplot()`のデフォルトである`stripplot()`が使用するアプローチは、カテゴリ軸上の点の位置を少量のランダムな \"ジッター\"で調整することです。"
   ]
  },
  {
   "cell_type": "code",
   "execution_count": null,
   "id": "7e423e7f-bb31-4718-9fe7-72b6e61dd68d",
   "metadata": {
    "tags": []
   },
   "outputs": [],
   "source": [
    "tips = pd.read_csv(\"tips.csv\")\n",
    "\n",
    "sns.catplot(data=tips, x=\"day\", y=\"total_bill\")\n",
    "\n",
    "plt.show()"
   ]
  },
  {
   "cell_type": "markdown",
   "id": "26ffaf53-3cb6-4453-be7f-d3c925939fdd",
   "metadata": {},
   "source": [
    "ジッターパラメーターは、ジッターの大きさを制御したり、完全に無効にしたりします。"
   ]
  },
  {
   "cell_type": "code",
   "execution_count": null,
   "id": "1971d27d-c8eb-4048-b383-cf8bc5e5968d",
   "metadata": {
    "tags": []
   },
   "outputs": [],
   "source": [
    "sns.catplot(data=tips, x=\"day\", y=\"total_bill\", jitter=False)\n",
    "\n",
    "plt.show()"
   ]
  },
  {
   "cell_type": "markdown",
   "id": "bd812214-6e06-4fd1-a515-b6c36b9cc139",
   "metadata": {},
   "source": [
    "2番目のアプローチは，カテゴリー軸に沿ったポイントが重ならないようにするアルゴリズムを用いて調整します。  \n",
    "比較的小さなデータセットに対してのみうまく機能しますが、オブザベーションの分布をよりよく表現することができます。  \n",
    "\n",
    "この種のプロットは \"蜜蜂群 \"と呼ばれることがあり、seabornでは`swarmplot()`によって描画されます。"
   ]
  },
  {
   "cell_type": "code",
   "execution_count": null,
   "id": "9e2f1ba9-4f3e-4ea2-915f-d66a277886aa",
   "metadata": {
    "tags": []
   },
   "outputs": [],
   "source": [
    "sns.catplot(data=tips, x=\"day\", y=\"total_bill\", kind=\"swarm\")\n",
    "\n",
    "plt.show()"
   ]
  },
  {
   "cell_type": "markdown",
   "id": "d102eba4-94f3-4e65-b2ed-e1228c0e067a",
   "metadata": {},
   "source": [
    "関係プロットと同様に、色相セマンティックを使用することで、カテゴリプロットに別の次元を追加することができます。  \n",
    "※ `catplot()`は、現在のところサイズやスタイルのセマンティクスをサポートしていません\n",
    "\n",
    "各カテゴリカルプロット関数は、色相セマンティックの扱いが異なります。  \n",
    "散布図では、点の色を変更するだけです。"
   ]
  },
  {
   "cell_type": "code",
   "execution_count": null,
   "id": "2b3898a7-100a-4e30-9777-7e3dbb6d92a9",
   "metadata": {
    "tags": []
   },
   "outputs": [],
   "source": [
    "sns.catplot(data=tips, x=\"day\", y=\"total_bill\", hue=\"sex\", kind=\"swarm\")\n",
    "\n",
    "plt.show()"
   ]
  },
  {
   "cell_type": "markdown",
   "id": "36cb1467-3686-415a-a6d6-9d15dbaa782c",
   "metadata": {},
   "source": [
    "数値データとは異なり、カテゴリ変数のレベルを軸に沿ってどのように順序付けるかは必ずしも明らかではありません。  \n",
    "一般的に、seabornのカテゴリプロット関数はデータからカテゴリの順序を推測しようとします。  \n",
    "\n",
    "データがpandas Categoricalデータ型を持っている場合、カテゴリのデフォルトの順序をそこで設定することができます。  \n",
    "カテゴリ軸に渡された変数が数値に見える場合、レベルはソートされます。  \n",
    "\n",
    "しかし、ラベル付けに数値が使用されている場合でも、データはカテゴリとして扱われ、カテゴリ軸の順序の位置（具体的には、0、1、...）に描画されます。"
   ]
  },
  {
   "cell_type": "code",
   "execution_count": null,
   "id": "c5ce4fd1-6368-489f-8fbb-f8eea4e37369",
   "metadata": {
    "tags": []
   },
   "outputs": [],
   "source": [
    "sns.catplot(data=tips.query(\"size != 3\"), x=\"size\", y=\"total_bill\")\n",
    "\n",
    "plt.show()"
   ]
  },
  {
   "cell_type": "markdown",
   "id": "75f74a3a-dc5d-4373-a1c4-d98a0df1c34d",
   "metadata": {},
   "source": [
    "デフォルトの順序を選択するもう1つのオプションは、データセットに現れるようにカテゴリのレベルを取ることです。  \n",
    "順序は、orderパラメータを使用してプロットごとに制御することもできます。  \n",
    "\n",
    "これは、同じ図に複数のカテゴリプロットを描くときに重要です。"
   ]
  },
  {
   "cell_type": "code",
   "execution_count": null,
   "id": "0f8054cf-51c8-478f-a5fc-c49790fee817",
   "metadata": {
    "tags": []
   },
   "outputs": [],
   "source": [
    "sns.catplot(data=tips, x=\"smoker\", y=\"tip\", order=[\"No\", \"Yes\"])\n",
    "\n",
    "plt.show()"
   ]
  },
  {
   "cell_type": "markdown",
   "id": "fd71ff8e-7ec8-4a2a-8c03-007b4623e82b",
   "metadata": {},
   "source": [
    "私たちは「カテゴリー軸」という考え方に言及してきました。  \n",
    "これらの例では、それは常に横軸に対応します。  \n",
    "\n",
    "しかし、カテゴリ変数を縦軸に置くと便利なことがよくあります（特にカテゴリ名が比較的長い場合やカテゴリが多い場合）。  \n",
    "これを行うには、変数の軸への割り当てを入れ替えます。"
   ]
  },
  {
   "cell_type": "code",
   "execution_count": null,
   "id": "6692d705-8d6f-4ab4-b2b5-b4ca83eb0a6d",
   "metadata": {
    "tags": []
   },
   "outputs": [],
   "source": [
    "sns.catplot(data=tips, x=\"total_bill\", y=\"day\", hue=\"time\", kind=\"swarm\")\n",
    "\n",
    "plt.show()"
   ]
  },
  {
   "cell_type": "markdown",
   "id": "86688954-9740-4a47-ad2d-eec611622ea9",
   "metadata": {},
   "source": [
    "## 分布の比較\n",
    "データセットのサイズが大きくなるにつれて、カテゴリ散布図が各カテゴリ内の値の分布について提供できる情報は限られてきます。  \n",
    "このような場合、カテゴリレベル間の比較を容易にする方法で分布情報を要約するためのいくつかのアプローチがあります。\n",
    "\n",
    "### 箱ひげ図\n",
    "1つ目は、おなじみの`boxplot()`です。この種のプロットは、極値とともに分布の3つの四分位値を表示します。  \n",
    "ひげ \"は、下位および上位の四分位値の**1.5IQR**以内にあるポイントまで拡張され、そして、この範囲外にあるオブザベーションが独立に表示されます。  \n",
    "\n",
    "これは、箱ひげ図中の各値がデータ中の実際のオブザベーションに対応することを意味します。"
   ]
  },
  {
   "cell_type": "code",
   "execution_count": null,
   "id": "feedba51-accd-4729-8219-f5c1ce26b8a5",
   "metadata": {
    "tags": []
   },
   "outputs": [],
   "source": [
    "sns.catplot(data=tips, x=\"day\", y=\"total_bill\", kind=\"box\")\n",
    "\n",
    "plt.show()"
   ]
  },
  {
   "cell_type": "markdown",
   "id": "fe33e59e-ca6b-4fb2-b338-73d6c472e25a",
   "metadata": {},
   "source": [
    "色相のセマンティックを追加するとき、`hue`変数の各レベルのボックスは、それらが重ならないようにカテゴリー軸に沿って移動されます。"
   ]
  },
  {
   "cell_type": "code",
   "execution_count": null,
   "id": "aaf32fcd-418d-4936-834c-045588db380d",
   "metadata": {
    "tags": []
   },
   "outputs": [],
   "source": [
    "sns.catplot(data=tips, x=\"day\", y=\"total_bill\", hue=\"smoker\", kind=\"box\")\n",
    "\n",
    "plt.show()"
   ]
  },
  {
   "cell_type": "markdown",
   "id": "360ee410-1764-4610-8c12-a68ee83c9076",
   "metadata": {},
   "source": [
    "この動作は「ドッジング」と呼ばれ、意味変数がメインのカテゴリー変数にネストされていると仮定されるため、デフォルトでオンになっています。  \n",
    "そうでない場合は、ドッジを無効にすることができます。"
   ]
  },
  {
   "cell_type": "code",
   "execution_count": null,
   "id": "0003c0be-6298-4892-82dd-a9ddaf793b7b",
   "metadata": {
    "tags": []
   },
   "outputs": [],
   "source": [
    "tips[\"weekend\"] = tips[\"day\"].isin([\"Sat\", \"Sun\"])\n",
    "\n",
    "sns.catplot(\n",
    "    data=tips, x=\"day\", y=\"total_bill\", hue=\"weekend\",\n",
    "    kind=\"box\", dodge=False,\n",
    ")\n",
    "\n",
    "plt.show()"
   ]
  },
  {
   "cell_type": "markdown",
   "id": "d7dc91c2-b67a-4393-9e53-2382685fddba",
   "metadata": {},
   "source": [
    "関連する関数である `boxenplot()` は、箱ひげ図に似たプロットを描画しますが、分布の形状に関するより多くの情報を表示するように最適化されています。  \n",
    "より大きなデータセットに最適です。"
   ]
  },
  {
   "cell_type": "code",
   "execution_count": null,
   "id": "449bb70b-b1fb-4110-adcd-740f8fd28f86",
   "metadata": {
    "tags": []
   },
   "outputs": [],
   "source": [
    "diamonds = pd.read_csv(\"diamonds.csv\")\n",
    "\n",
    "sns.catplot(\n",
    "    data=diamonds.sort_values(\"color\"),\n",
    "    x=\"color\", y=\"price\", kind=\"boxen\",\n",
    ")\n",
    "\n",
    "plt.show()"
   ]
  },
  {
   "cell_type": "markdown",
   "id": "0e640464-83b1-479c-aea8-e0f26da60318",
   "metadata": {},
   "source": [
    "### バイオリンプロット\n",
    "\n",
    "異なるアプローチは、「分布の可視化」で説明されたカーネル密度推定手順とボックスプロットを組み合わせた`violinplot()`です。"
   ]
  },
  {
   "cell_type": "code",
   "execution_count": null,
   "id": "d3f6c3e2-5fd5-42b1-974c-9a1e7899c881",
   "metadata": {
    "tags": []
   },
   "outputs": [],
   "source": [
    "sns.catplot(\n",
    "    data=tips, x=\"total_bill\", y=\"day\", hue=\"sex\", kind=\"violin\",\n",
    ")\n",
    "\n",
    "plt.show()"
   ]
  },
  {
   "cell_type": "markdown",
   "id": "b363c18b-2079-4271-8a0b-ce9f7b62845d",
   "metadata": {},
   "source": [
    "このアプローチは、値の分布のより豊かな説明を提供するためにカーネル密度推定を使用します。  \n",
    "さらに、ボックスプロットからの四分位値とひげ値がバイオリン内に表示されます。  \n",
    "\n",
    "欠点は、violinplotはKDEを使うので、微調整が必要なパラメータがいくつかあり、単純なboxplotに比べて複雑さが増すことです。"
   ]
  },
  {
   "cell_type": "code",
   "execution_count": null,
   "id": "81212980-a633-4fda-9acd-e801b2590355",
   "metadata": {
    "tags": []
   },
   "outputs": [],
   "source": [
    "sns.catplot(\n",
    "    data=tips, x=\"total_bill\", y=\"day\", hue=\"sex\",\n",
    "    kind=\"violin\", bw=.15, cut=0,\n",
    ")\n",
    "\n",
    "plt.show()"
   ]
  },
  {
   "cell_type": "markdown",
   "id": "e3f98103-665e-45e3-84c2-56c3a5856dee",
   "metadata": {},
   "source": [
    "また、`hue`パラメーターが2段階しかない場合、ヴァイオリンを「分割」することも可能で、スペースをより効率的に使うことができます。"
   ]
  },
  {
   "cell_type": "code",
   "execution_count": null,
   "id": "efe47d8b-0355-4509-ac64-2c04f7047ea2",
   "metadata": {
    "tags": []
   },
   "outputs": [],
   "source": [
    "sns.catplot(\n",
    "    data=tips, x=\"day\", y=\"total_bill\", hue=\"sex\",\n",
    "    kind=\"violin\", split=True,\n",
    ")\n",
    "\n",
    "plt.show()"
   ]
  },
  {
   "cell_type": "markdown",
   "id": "2291a2f8-3a71-4678-af3b-67b65e23f8b6",
   "metadata": {},
   "source": [
    "最後に、バイオリンの内側に描画されるプロットには、要約ボックスプロット値の代わりに個々のオブザベーションを表示する方法など、いくつかのオプションがあります。"
   ]
  },
  {
   "cell_type": "code",
   "execution_count": null,
   "id": "e86b8487-b0e3-4e8c-b5b3-66fa67bd4898",
   "metadata": {
    "tags": []
   },
   "outputs": [],
   "source": [
    "sns.catplot(\n",
    "    data=tips, x=\"day\", y=\"total_bill\", hue=\"sex\",\n",
    "    kind=\"violin\", inner=\"stick\", split=True, palette=\"pastel\",\n",
    ")\n",
    "\n",
    "plt.show()"
   ]
  },
  {
   "cell_type": "markdown",
   "id": "f9df078c-45e2-4e90-b775-c12903a1a582",
   "metadata": {},
   "source": [
    "また、`swarmplot()` や `stripplot()` を箱ひげ図やバイオリンプロットと組み合わせて、各観測値を分布の要約と一緒に表示するのも便利です。"
   ]
  },
  {
   "cell_type": "code",
   "execution_count": null,
   "id": "2e9b99c4-76c3-42d4-b2b3-c836149b6f68",
   "metadata": {
    "tags": []
   },
   "outputs": [],
   "source": [
    "g = sns.catplot(data=tips, x=\"day\", y=\"total_bill\", kind=\"violin\", inner=None)\n",
    "sns.swarmplot(data=tips, x=\"day\", y=\"total_bill\", color=\"k\", size=3, ax=g.ax)\n",
    "\n",
    "plt.show()"
   ]
  },
  {
   "cell_type": "markdown",
   "id": "1c25fd0f-e6ab-466b-8061-500c9197912d",
   "metadata": {},
   "source": [
    "## 中心傾向の推定\n",
    "各カテゴリ内の分布を表示するのではなく、値の中心傾向の推定値を表示したい場合があります。  \n",
    "seaborn には、この情報を表示する2つの主な方法があります。  \n",
    "重要なことは、これらの関数の基本APIは、上で説明したものと同じであるということです。\n",
    "\n",
    "### 棒グラフ\n",
    "この目的を達成する身近なプロットのスタイルは棒グラフです。  \n",
    "seabornでは、`barplot()`関数は完全なデータ集合を操作し、推定値を得るために関数を適用します（デフォルトでは平均を取る）。  \n",
    "各カテゴリーに複数のオブザベーションがある場合、ブートストラップを使って推定値の信頼区間を計算し、エラーバーを使ってプロットします。"
   ]
  },
  {
   "cell_type": "code",
   "execution_count": null,
   "id": "ba5a62e3-650f-45f7-8b06-aeb2fcea5efa",
   "metadata": {
    "tags": []
   },
   "outputs": [],
   "source": [
    "titanic = pd.read_csv(\"titanic.csv\")\n",
    "\n",
    "sns.catplot(data=titanic, x=\"sex\", y=\"survived\", hue=\"class\", kind=\"bar\")\n",
    "\n",
    "plt.show()"
   ]
  },
  {
   "cell_type": "markdown",
   "id": "c1328595-9376-4554-b5a4-2991cdefc125",
   "metadata": {},
   "source": [
    "デフォルトのエラーバーは95%信頼区間を示していますが、（v0.12から）他の表示も選択できるようになりました。"
   ]
  },
  {
   "cell_type": "code",
   "execution_count": null,
   "id": "9e1fbf84-420b-4e27-b02b-1fac2869bac6",
   "metadata": {
    "tags": []
   },
   "outputs": [],
   "source": [
    "sns.catplot(data=titanic, x=\"age\", y=\"deck\", errorbar=(\"pi\", 95), kind=\"bar\")\n",
    "\n",
    "plt.show()"
   ]
  },
  {
   "cell_type": "markdown",
   "id": "c8195aae-8a76-46ae-9624-064aaf9e2b6a",
   "metadata": {},
   "source": [
    "棒グラフの特別なケースは、2番目の変数の統計量を計算するのではなく、各カテゴリのオブザベーションの数を表示したい場合です。  \n",
    "これは、量的変数ではなくカテゴリー変数に対するヒストグラムに似ています。  \n",
    "\n",
    "seabornでは、`countplot()`関数で簡単にできます："
   ]
  },
  {
   "cell_type": "code",
   "execution_count": null,
   "id": "e73ed4da-d3af-4477-8389-86e7b729a3dd",
   "metadata": {
    "tags": []
   },
   "outputs": [],
   "source": [
    "sns.catplot(data=titanic, x=\"deck\", kind=\"count\", palette=\"ch:.25\")\n",
    "\n",
    "plt.show()"
   ]
  },
  {
   "cell_type": "markdown",
   "id": "b35f47b5-91dd-4b89-a28c-d2c8746243de",
   "metadata": {},
   "source": [
    "`barplot()`と`countplot()`の両方は、上で説明したすべてのオプションと、各関数の詳細なドキュメントで説明されているその他のオプションで呼び出すことができます。"
   ]
  },
  {
   "cell_type": "code",
   "execution_count": null,
   "id": "f2d30129-5a58-4f8e-8b09-b5cd8b6ddc2e",
   "metadata": {
    "tags": []
   },
   "outputs": [],
   "source": [
    "sns.catplot(\n",
    "    data=titanic, y=\"deck\", hue=\"class\", kind=\"count\",\n",
    "    palette=\"pastel\", edgecolor=\".6\",\n",
    ")\n",
    "\n",
    "plt.show()"
   ]
  },
  {
   "cell_type": "markdown",
   "id": "b2d90c26-200d-4d9c-a126-ff25197188e4",
   "metadata": {},
   "source": [
    "### 点プロット\n",
    "同じ情報を視覚化する別のスタイルとして、`pointplot()`関数があります。  \n",
    "この関数も推定値をもう一方の軸の高さでエンコードするが、完全なバーを表示するのではなく、ポイント推定値と信頼区間をプロットします。  \n",
    "\n",
    "さらに、`pointplot()`は、同じ色相カテゴリからのポイントを接続します。これは、主な関係が色相セマンティックの関数としてどのように変化しているかを簡単に見ることができます。"
   ]
  },
  {
   "cell_type": "code",
   "execution_count": null,
   "id": "a6e945c0-b416-4e1b-8cd0-72ea73014b1f",
   "metadata": {
    "tags": []
   },
   "outputs": [],
   "source": [
    "sns.catplot(data=titanic, x=\"sex\", y=\"survived\", hue=\"class\", kind=\"point\")\n",
    "\n",
    "plt.show()"
   ]
  },
  {
   "cell_type": "markdown",
   "id": "4528e41e-4daf-4866-b2b7-6b86e4e91397",
   "metadata": {},
   "source": [
    "カテゴリカル関数にはリレーショナル関数のようなスタイル・セマンティックはないですが、色相とともにマーカーや線種を変化させるのは良いアイデアかもしれません。"
   ]
  },
  {
   "cell_type": "code",
   "execution_count": null,
   "id": "3a6eebd7-e7a0-4e0f-a24c-85a6f36fbb33",
   "metadata": {
    "tags": []
   },
   "outputs": [],
   "source": [
    "sns.catplot(\n",
    "    data=titanic, x=\"class\", y=\"survived\", hue=\"sex\",\n",
    "    palette={\"male\": \"g\", \"female\": \"m\"},\n",
    "    markers=[\"^\", \"o\"], linestyles=[\"-\", \"--\"],\n",
    "    kind=\"point\"\n",
    ")\n",
    "\n",
    "plt.show()"
   ]
  },
  {
   "cell_type": "markdown",
   "id": "2a37aa83-b5b7-4e43-ad00-514b04c63936",
   "metadata": {},
   "source": [
    "## 追加次元の表示\n",
    "`relplot()`と同様に、`catplot()`がFacetGrid上に構築されているということは、高次元の関係を視覚化するためにファセット変数を追加することが容易であることを意味します。"
   ]
  },
  {
   "cell_type": "code",
   "execution_count": null,
   "id": "fab616a1-c9a6-4a0f-b5af-cf8d83888106",
   "metadata": {
    "tags": []
   },
   "outputs": [],
   "source": [
    "sns.catplot(\n",
    "    data=tips, x=\"day\", y=\"total_bill\", hue=\"smoker\",\n",
    "    kind=\"swarm\", col=\"time\", aspect=.7,\n",
    ")\n",
    "\n",
    "plt.show()"
   ]
  },
  {
   "cell_type": "markdown",
   "id": "b3ca102b-8707-428c-9332-63b9b76d0e02",
   "metadata": {
    "tags": []
   },
   "source": [
    "プロットのさらなるカスタマイズのために、それが返すFacetGridオブジェクトのメソッドを使用することができます。"
   ]
  },
  {
   "cell_type": "code",
   "execution_count": null,
   "id": "4239d59b-b686-47a1-97b7-ac4339879c46",
   "metadata": {
    "tags": []
   },
   "outputs": [],
   "source": [
    "g = sns.catplot(\n",
    "    data=titanic,\n",
    "    x=\"fare\", y=\"embark_town\", row=\"class\",\n",
    "    kind=\"box\", orient=\"h\",\n",
    "    sharex=False, margin_titles=True,\n",
    "    height=1.5, aspect=4,\n",
    ")\n",
    "\n",
    "g.set(xlabel=\"Fare\", ylabel=\"\")\n",
    "g.set_titles(row_template=\"{row_name} class\")\n",
    "\n",
    "for ax in g.axes.flat:\n",
    "    ax.xaxis.set_major_formatter('${x:.0f}')"
   ]
  }
 ],
 "metadata": {
  "kernelspec": {
   "display_name": "Python 3 (ipykernel)",
   "language": "python",
   "name": "python3"
  },
  "language_info": {
   "codemirror_mode": {
    "name": "ipython",
    "version": 3
   },
   "file_extension": ".py",
   "mimetype": "text/x-python",
   "name": "python",
   "nbconvert_exporter": "python",
   "pygments_lexer": "ipython3",
   "version": "3.9.16"
  }
 },
 "nbformat": 4,
 "nbformat_minor": 5
}
