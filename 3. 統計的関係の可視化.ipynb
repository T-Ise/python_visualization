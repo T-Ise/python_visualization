{
 "cells": [
  {
   "cell_type": "markdown",
   "id": "ee375eb8-9b3d-4251-8158-5560b002c9b4",
   "metadata": {},
   "source": [
    "# 統計的関係の可視化"
   ]
  },
  {
   "cell_type": "code",
   "execution_count": null,
   "id": "39b0bcad-5e30-43a5-a937-2db1f247fc2a",
   "metadata": {},
   "outputs": [],
   "source": [
    "import numpy as np\n",
    "import pandas as pd\n",
    "import matplotlib.pyplot as plt\n",
    "import seaborn as sns\n",
    "sns.set_theme(style=\"darkgrid\")"
   ]
  },
  {
   "cell_type": "markdown",
   "id": "692e0c8a-3ee0-4f16-8b1d-5f1a1f5b3e5e",
   "metadata": {},
   "source": [
    "統計分析は、データセット内の変数が互いにどのように関係しているのか、またそれらの関係が他の変数にどのように依存しているのかを理解するプロセスです。  \n",
    "データが適切に視覚化されると、人間の視覚システムは関係を示す傾向やパターンを認識できるため、視覚化はこのプロセスの中核的な存在となり得ます。  \n",
    "\n",
    "このフェーズでは、3つの seaborn 関数について説明します。  \n",
    "最もよく使用するのは `relplot()`です。  \n",
    "これは、散布図と折れ線グラフという 2つの一般的なアプローチを使用して統計的関係を視覚化するための図レベルの関数です。  \n",
    "\n",
    "`relplot()`はFacetGridと、以下の2つの軸レベル関数のうちの1つを組み合わせます。  \n",
    "\n",
    "- `scatterplot()` (kind=\"scatter\" [defalut])\n",
    "- `lineplot()` (kind=\"line\")\n",
    "\n",
    "後で説明するように、これらの関数は、複雑なデータセット構造を表現できるシンプルで理解しやすい図に落とし込むので、非常にわかりやすくなります。  \n",
    "これが可能な理由は、色相、サイズ、スタイルのセマンティクスを使用して最大3つの追加変数をマッピングすることで多様なプロットを作成できるからです。"
   ]
  },
  {
   "cell_type": "markdown",
   "id": "fabb6b30-4008-4a70-a664-42f8373992fa",
   "metadata": {},
   "source": [
    "## 散布図"
   ]
  },
  {
   "cell_type": "markdown",
   "id": "ca06b31a-7764-437c-a146-936115ae1c20",
   "metadata": {},
   "source": [
    "散布図は統計的可視化の主力です。  \n",
    "これは、点群を使用して 2つの変数の結合分布を表しており、各点はデータセット内の観測値を表します。  \n",
    "この描写により、目はそれらの間に意味のある関係があるかどうかについて、かなりの量の情報を推測することができます。  \n",
    "\n",
    "seaborn で散布図を描く方法はいくつかあります。  \n",
    "最も基本的なものは、両方の変数が数値である場合に使用する必要がある`scatterplot()`関数です。  \n",
    "\n",
    "`replot()`関数において、`kind`がデフォルトで \"scatter\" となっているので、これで代用することもできます。"
   ]
  },
  {
   "cell_type": "code",
   "execution_count": null,
   "id": "fb97143d-ff05-49ee-8212-fee08aad8083",
   "metadata": {},
   "outputs": [],
   "source": [
    "tips = pd.read_csv('tips.csv')\n",
    "\n",
    "sns.relplot(data=tips, x=\"total_bill\", y=\"tip\")\n",
    "\n",
    "plt.show()"
   ]
  },
  {
   "cell_type": "markdown",
   "id": "7e485b84-9841-41ce-aea1-d0194cbe2a52",
   "metadata": {},
   "source": [
    "点は2次元でプロットされますが、3番目の変数に従って点を色付けすることで、別の次元をプロットに追加できます。  \n",
    "Seaborn ではポイントの色が意味を持つようになるため、これを「色相セマンティクス」の使用と呼びます。"
   ]
  },
  {
   "cell_type": "code",
   "execution_count": null,
   "id": "47e5d53f-5189-4cba-a9e4-3c51866b1700",
   "metadata": {},
   "outputs": [],
   "source": [
    "sns.relplot(data=tips, x=\"total_bill\", y=\"tip\", hue=\"smoker\")\n",
    "\n",
    "plt.show()"
   ]
  },
  {
   "cell_type": "markdown",
   "id": "f3134f6f-abee-434e-abf0-cb32da8ccd80",
   "metadata": {},
   "source": [
    "クラス間の違いを強調し、可視性を向上させるために、クラスごとに異なるマーカー スタイルを使用できます。"
   ]
  },
  {
   "cell_type": "code",
   "execution_count": null,
   "id": "80a9f88e-4403-411a-9154-ceeb6cf101fd",
   "metadata": {},
   "outputs": [],
   "source": [
    "sns.relplot(\n",
    "    data=tips,\n",
    "    x=\"total_bill\", y=\"tip\", hue=\"smoker\", style=\"smoker\"\n",
    ")\n",
    "\n",
    "plt.show()"
   ]
  },
  {
   "cell_type": "markdown",
   "id": "b6b5958a-331a-4b35-b69a-425f4b177b5c",
   "metadata": {},
   "source": [
    "各ポイントの色相とスタイルを個別に変更することで 4つの変数を表すこともできます。  \n",
    "ただし、目は色よりも形に対してはるかに敏感であるため、これは慎重に行う必要があります。"
   ]
  },
  {
   "cell_type": "code",
   "execution_count": null,
   "id": "a43ac4e8-df3c-4c55-b58e-59bbceb1a808",
   "metadata": {},
   "outputs": [],
   "source": [
    "sns.relplot(\n",
    "    data=tips,\n",
    "    x=\"total_bill\", y=\"tip\", hue=\"smoker\", style=\"time\",\n",
    ")\n",
    "\n",
    "plt.show()"
   ]
  },
  {
   "cell_type": "markdown",
   "id": "a711b126-d367-403f-98b2-207f7e08596b",
   "metadata": {},
   "source": [
    "上記の例では、色相のセマンティクスがカテゴリ変数であるため、デフォルトの定性パレットが適用されました。  \n",
    "色相セマンティクスが数値の場合 (特に、float型にキャストできる場合)、デフォルトの色付けは連続パレットに切り替わります。"
   ]
  },
  {
   "cell_type": "code",
   "execution_count": null,
   "id": "588676d4-42fa-414e-b8c4-42afbf3cc17a",
   "metadata": {},
   "outputs": [],
   "source": [
    "sns.relplot(\n",
    "    data=tips, x=\"total_bill\", y=\"tip\", hue=\"size\",\n",
    ")\n",
    "\n",
    "plt.show()"
   ]
  },
  {
   "cell_type": "markdown",
   "id": "8184c4af-59f0-4842-b6d3-8b7a6797f31f",
   "metadata": {},
   "source": [
    "どちらの場合も、カラー パレットをカスタマイズできます。  \n",
    "ここでは、文字列を使用して色パレットを次のようにカスタマイズします。  \n",
    "\n",
    "参考[cubehelixパレット] : https://seaborn.pydata.org/generated/seaborn.cubehelix_palette.html#seaborn.cubehelix_palette"
   ]
  },
  {
   "cell_type": "code",
   "execution_count": null,
   "id": "94508e98-a497-4e2b-851a-9ef2c0d9a92a",
   "metadata": {},
   "outputs": [],
   "source": [
    "sns.relplot(\n",
    "    data=tips,\n",
    "    x=\"total_bill\", y=\"tip\",\n",
    "    hue=\"size\", palette=\"ch:r=-.5,l=.75\"\n",
    ")\n",
    "\n",
    "plt.show()"
   ]
  },
  {
   "cell_type": "markdown",
   "id": "16a22e81-d230-47e0-b800-5792d1147b9a",
   "metadata": {},
   "source": [
    "3種類目のセマンティック変数は、各ポイントのサイズを変更します。"
   ]
  },
  {
   "cell_type": "code",
   "execution_count": null,
   "id": "ba497727-49f6-47a8-93bf-dc7d60af6a2b",
   "metadata": {},
   "outputs": [],
   "source": [
    "sns.relplot(data=tips, x=\"total_bill\", y=\"tip\", size=\"size\")\n",
    "\n",
    "plt.show()"
   ]
  },
  {
   "cell_type": "markdown",
   "id": "c8585416-74ac-4fc0-a022-833cb80635eb",
   "metadata": {},
   "source": [
    "さまざまなセマンティクスを使用して統計的関係を表示する方法をカスタマイズするためのその他の例については、`scatterplot()`API を参照してください。  \n",
    "\n",
    "https://seaborn.pydata.org/generated/seaborn.scatterplot.html#seaborn.scatterplot"
   ]
  },
  {
   "cell_type": "markdown",
   "id": "50ac85d2-bf30-4e35-b550-c50cdebade27",
   "metadata": {},
   "source": [
    "## 折れ線グラフ"
   ]
  },
  {
   "cell_type": "markdown",
   "id": "5e8d9b3a-b680-4966-8468-c35b29d984c9",
   "metadata": {},
   "source": [
    "散布図は非常に効果的ですが、普遍的ではありません。  \n",
    "可視化表現は、データセットの詳細と、プロットで答えようとしている質問に合わせて調整する必要があります。\n",
    "  \n",
    "データセットによっては、1つの変数の変化を時間の関数として、または同様の連続変数として理解したい場合があります。  \n",
    "この状況では、折れ線グラフを描くのが良い選択です。  \n",
    "\n",
    "seaborn では、`lineplot()`によって、または`relplot()`の`kind=\"line\"`の設定によって実現できます。"
   ]
  },
  {
   "cell_type": "code",
   "execution_count": null,
   "id": "a4798392-fc68-48c9-8b6f-475468fd3c6f",
   "metadata": {},
   "outputs": [],
   "source": [
    "dowjones = pd.read_csv(\"dowjones.csv\")\n",
    "dowjones['Date'] = pd.to_datetime(dowjones['Date'])\n",
    "\n",
    "sns.relplot(data=dowjones, x=\"Date\", y=\"Price\", kind=\"line\")\n",
    "\n",
    "plt.show()"
   ]
  },
  {
   "cell_type": "markdown",
   "id": "7bace67f-4798-4769-9f71-40e0e608cdfd",
   "metadata": {},
   "source": [
    "より複雑なデータセットには、変数の同じ値に対して複数の測定値が含まれます。  \n",
    "seaborn のデフォルトの動作では、平均値とその平均値の周囲の 95% 信頼区間をプロットすることで、各値における複数の測定値を集計します。  "
   ]
  },
  {
   "cell_type": "code",
   "execution_count": null,
   "id": "cb638856-d0cf-4af9-83c6-89d99eb68537",
   "metadata": {},
   "outputs": [],
   "source": [
    "fmri = pd.read_csv(\"fmri.csv\")\n",
    "\n",
    "sns.relplot(data=fmri, x=\"timepoint\", y=\"signal\", kind=\"line\")\n",
    "\n",
    "plt.show()"
   ]
  },
  {
   "cell_type": "markdown",
   "id": "91411215-41e6-4e9e-ba1b-32e01b664078",
   "metadata": {},
   "source": [
    "信頼区間はブートストラップを使用して計算されますが、大規模なデータセットでは時間がかかる可能性があります。  \n",
    "したがって、それらを無効にすることが可能です。"
   ]
  },
  {
   "cell_type": "code",
   "execution_count": null,
   "id": "dc5de3c9-8768-49b4-a1c8-1e22e673595c",
   "metadata": {},
   "outputs": [],
   "source": [
    "sns.relplot(\n",
    "    data=fmri, kind=\"line\",\n",
    "    x=\"timepoint\", y=\"signal\", errorbar=None,\n",
    ")\n",
    "\n",
    "plt.show()"
   ]
  },
  {
   "cell_type": "markdown",
   "id": "514af5cc-4ffb-4200-9669-a0ed57e21a98",
   "metadata": {},
   "source": [
    "もう 1 つの良いオプションは、特に大規模なデータの場合、信頼区間の代わりに標準偏差をプロットすることで、各時点での分布の広がりを表すことです。"
   ]
  },
  {
   "cell_type": "code",
   "execution_count": null,
   "id": "7c7cb38d-43a0-47d0-8a02-594e2d73e09c",
   "metadata": {
    "tags": []
   },
   "outputs": [],
   "source": [
    "sns.relplot(\n",
    "    data=fmri, kind=\"line\",\n",
    "    x=\"timepoint\", y=\"signal\", errorbar=\"sd\",\n",
    ")\n",
    "\n",
    "plt.show()"
   ]
  },
  {
   "cell_type": "markdown",
   "id": "0047ecfb-b0e7-4350-96ab-34ed43e57a9e",
   "metadata": {},
   "source": [
    "### セマンティックマッピングを使用したデータのサブセットのプロット"
   ]
  },
  {
   "cell_type": "markdown",
   "id": "63a6b1f8-d4b3-449f-9cdf-93dbe8f57230",
   "metadata": {},
   "source": [
    "`lineplot()`関数には`scatterplot()`と同じ柔軟性があり、プロット要素の色相、サイズ、スタイルを変更することで、最大 3 つの追加変数を表示できます。  \n",
    "これは`scatterplot()`と同じ API を使用して行われます。つまり、matplotlib で線と点の外観を制御するパラメーターについて立ち止まって考える必要はありません。\n",
    "\n",
    "セマンティクスの使用により、`lineplot()`データがどのように集約されるかも決まります。  \n",
    "たとえば、2つのレベルの色相セマンティクスを追加すると、プロットが 2つの線とエラー バンドに分割され、それぞれがデータのどのサブセットに対応するかを示すために色付けされます。"
   ]
  },
  {
   "cell_type": "code",
   "execution_count": null,
   "id": "776b20a5-7791-4b55-9445-055f04059c00",
   "metadata": {
    "tags": []
   },
   "outputs": [],
   "source": [
    "sns.relplot(\n",
    "    data=fmri, kind=\"line\",\n",
    "    x=\"timepoint\", y=\"signal\", hue=\"event\",\n",
    ")\n",
    "\n",
    "plt.show()"
   ]
  },
  {
   "cell_type": "markdown",
   "id": "4fff811f-258e-4537-b478-951c46d5402d",
   "metadata": {},
   "source": [
    "ライン プロットにスタイル セマンティクスを追加すると、デフォルトでライン内の破線のパターンが変更されます。"
   ]
  },
  {
   "cell_type": "code",
   "execution_count": null,
   "id": "65a9fb33-4225-4afd-a998-f7189e1136a9",
   "metadata": {
    "tags": []
   },
   "outputs": [],
   "source": [
    "sns.relplot(\n",
    "    data=fmri, kind=\"line\",\n",
    "    x=\"timepoint\", y=\"signal\",\n",
    "    hue=\"region\", style=\"event\",\n",
    ")\n",
    "\n",
    "plt.show()"
   ]
  },
  {
   "cell_type": "markdown",
   "id": "4da244a0-419c-43d9-a485-b0aa52fea7d4",
   "metadata": {
    "tags": []
   },
   "source": [
    "ダッシュと一緒に、またはダッシュの代わりに、各観測で使用されるマーカーによってサブセットを識別できます。"
   ]
  },
  {
   "cell_type": "code",
   "execution_count": null,
   "id": "23c6d13f-2dae-4832-9932-d07be7717bcf",
   "metadata": {
    "tags": []
   },
   "outputs": [],
   "source": [
    "sns.relplot(\n",
    "    data=fmri, kind=\"line\",\n",
    "    x=\"timepoint\", y=\"signal\", hue=\"region\", style=\"event\",\n",
    "    dashes=False, markers=True,\n",
    ")\n",
    "\n",
    "plt.show()"
   ]
  },
  {
   "cell_type": "markdown",
   "id": "c699a4d4-c9a4-4f3d-a4db-954fdb6ebb87",
   "metadata": {},
   "source": [
    "散布図と同様、複数のセマンティクスを使用して折れ線グラフを作成する場合には注意してください。  \n",
    "これらは有益な場合もありますが、解析や解釈が難しくなる場合もあります。  \n",
    "\n",
    "繰り返し測定データを扱う場合 (つまり、複数回サンプリングされた単位がある場合)、セマンティクスによって区別せずに、各サンプリング単位を個別にプロットすることもできます。  \n",
    "これにより、凡例が乱雑になるのを避けることができます。"
   ]
  },
  {
   "cell_type": "code",
   "execution_count": null,
   "id": "8dce8fce-8853-4f6e-a133-39cd0ea79b15",
   "metadata": {
    "tags": []
   },
   "outputs": [],
   "source": [
    "sns.relplot(\n",
    "    data=fmri.query(\"event == 'stim'\"), kind=\"line\",\n",
    "    x=\"timepoint\", y=\"signal\", hue=\"region\",\n",
    "    units=\"subject\", estimator=None,\n",
    ")\n",
    "\n",
    "plt.show()"
   ]
  },
  {
   "cell_type": "markdown",
   "id": "6244a74f-ed9e-4f1e-ada0-1c6610fd7277",
   "metadata": {
    "tags": []
   },
   "source": [
    "デフォルトのカラーマップと凡例の処理は、色相のセマンティクスがカテゴリカルであるか数値であるかによっても異なります。"
   ]
  },
  {
   "cell_type": "code",
   "execution_count": null,
   "id": "1c56e7a0-7a84-4a72-a178-5e800b535c0d",
   "metadata": {
    "tags": []
   },
   "outputs": [],
   "source": [
    "dots = pd.read_csv(\"dots.csv\").query(\"align == 'dots'\")\n",
    "\n",
    "sns.relplot(\n",
    "    data=dots, kind=\"line\",\n",
    "    x=\"time\", y=\"firing_rate\",\n",
    "    hue=\"coherence\", style=\"choice\",\n",
    ")\n",
    "\n",
    "plt.show()"
   ]
  },
  {
   "cell_type": "markdown",
   "id": "b4537686-1bd4-4e2b-b592-3b40700f2901",
   "metadata": {},
   "source": [
    "`hue`引数が数値であっても、線形カラー スケールでは適切に表現されない場合があります。  \n",
    "これは、`hue`変数のレベルが対数的にスケールされる場合に当てはまります。  \n",
    "\n",
    "リストまたは辞書を渡すことで、各行に特定の色の値を指定できます。"
   ]
  },
  {
   "cell_type": "code",
   "execution_count": null,
   "id": "fb702163-f70e-44b7-b899-958d3e57add3",
   "metadata": {
    "tags": []
   },
   "outputs": [],
   "source": [
    "palette = sns.cubehelix_palette(light=.8, n_colors=6)\n",
    "\n",
    "sns.relplot(\n",
    "    data=dots, kind=\"line\",\n",
    "    x=\"time\", y=\"firing_rate\",\n",
    "    hue=\"coherence\", style=\"choice\", palette=palette,\n",
    ")\n",
    "\n",
    "plt.show()"
   ]
  },
  {
   "cell_type": "markdown",
   "id": "ee3f21de-2d01-4d6b-8f20-364d3ee7a7a1",
   "metadata": {},
   "source": [
    "3番目のセマンティクスであるサイズは、線の幅を変更します。"
   ]
  },
  {
   "cell_type": "code",
   "execution_count": null,
   "id": "0bef613b-76e2-4b2d-b09f-7d37b2d99654",
   "metadata": {
    "tags": []
   },
   "outputs": [],
   "source": [
    "sns.relplot(\n",
    "    data=dots, kind=\"line\",\n",
    "    x=\"time\", y=\"firing_rate\",\n",
    "    size=\"coherence\", style=\"choice\",\n",
    ")\n",
    "\n",
    "plt.show()"
   ]
  },
  {
   "cell_type": "markdown",
   "id": "98ff4820-4d60-4c28-8ca4-b3063dc1fd85",
   "metadata": {},
   "source": [
    "通常、`size`変数は数値ですが、カテゴリ変数を線の幅にマッピングすることも可能です。  \n",
    "「太い」線と「細い」線以上の区別が困難になるため、その際は注意してください。  \n",
    "\n",
    "ただし、線に高周波の変動がある場合、ダッシュは認識しにくい場合があるため、その場合は異なる幅を使用する方が効果的である可能性があります。"
   ]
  },
  {
   "cell_type": "code",
   "execution_count": null,
   "id": "db27b73c-325e-4d05-a72a-99066484b878",
   "metadata": {
    "tags": []
   },
   "outputs": [],
   "source": [
    "sns.relplot(\n",
    "    data=dots, kind=\"line\",\n",
    "    x=\"time\", y=\"firing_rate\",\n",
    "    hue=\"coherence\", size=\"choice\", palette=palette,\n",
    ")\n",
    "\n",
    "plt.show()"
   ]
  },
  {
   "cell_type": "markdown",
   "id": "816319c4-b6e9-4b80-a047-ccce14f4e027",
   "metadata": {},
   "source": [
    "### 並べ替えと方向の制御"
   ]
  },
  {
   "cell_type": "markdown",
   "id": "385871ab-11a1-434c-9ec2-f0009db0d4b8",
   "metadata": {},
   "source": [
    "`lineplot()`は、ほとんどの場合xとyの関数として描画しようとしていると想定しているため、デフォルトの動作では、プロットする前に値でデータを並べ替えます。  \n",
    "ただし、これは無効にすることができます。"
   ]
  },
  {
   "cell_type": "code",
   "execution_count": null,
   "id": "606ff1d4-9c7c-480f-a3f9-1f7536630ebb",
   "metadata": {
    "tags": []
   },
   "outputs": [],
   "source": [
    "healthexp = pd.read_csv(\"healthexp.csv\").sort_values(\"Year\")\n",
    "\n",
    "sns.relplot(\n",
    "    data=healthexp, kind=\"line\",\n",
    "    x=\"Spending_USD\", y=\"Life_Expectancy\", hue=\"Country\",\n",
    "    sort=False\n",
    ")\n",
    "\n",
    "plt.show()"
   ]
  },
  {
   "cell_type": "markdown",
   "id": "5a4e2b75-386f-4d8a-9069-d1c33887f617",
   "metadata": {},
   "source": [
    "Y 軸に沿って並べ替え (および集計) することもできます。"
   ]
  },
  {
   "cell_type": "code",
   "execution_count": null,
   "id": "5181effd-7e23-490d-b05b-aa8034bfc28b",
   "metadata": {
    "tags": []
   },
   "outputs": [],
   "source": [
    "sns.relplot(\n",
    "    data=fmri, kind=\"line\",\n",
    "     x=\"signal\", y=\"timepoint\", hue=\"event\",\n",
    "    orient=\"y\",\n",
    ")\n",
    "\n",
    "plt.show()"
   ]
  },
  {
   "cell_type": "markdown",
   "id": "c0249b79-0038-4449-9041-d2d0ae6f9ee5",
   "metadata": {},
   "source": [
    "### ファセットとの複数の関係の表示"
   ]
  },
  {
   "cell_type": "markdown",
   "id": "53c311ed-7b95-4c01-8749-2fc42b948a69",
   "metadata": {},
   "source": [
    "本項では、これらの関数は一度に複数のセマンティック変数を表示することができますが、そうすることが常に効果的であるとは限らないことを強調してきました。  \n",
    "しかし、2つの変数の間の関係が、1つ以上の他の変数にどのように依存するかを理解したい場合はどうでしょうか？\n",
    "\n",
    "最良の方法は、複数のプロットを作成することです。  \n",
    "`relplot()`はFacetGridに基づいているので、これは簡単に実現できます。  \n",
    "\n",
    "追加変数の影響を表示するには、プロットのセマンティック・ロールの1つに割り当てるのではなく、可視化の \"ファセット\"に使用します。  \n",
    "これは、複数の軸を作り、それぞれの軸にデータのサブセットをプロットすることを意味します"
   ]
  },
  {
   "cell_type": "code",
   "execution_count": null,
   "id": "b4d33d21-e870-4fb3-9160-244eef8e65b3",
   "metadata": {
    "tags": []
   },
   "outputs": [],
   "source": [
    "sns.relplot(\n",
    "    data=tips,\n",
    "    x=\"total_bill\", y=\"tip\", hue=\"smoker\", col=\"time\",\n",
    ")\n",
    "\n",
    "plt.show()"
   ]
  },
  {
   "cell_type": "markdown",
   "id": "4baee331-242f-4f0e-960b-528ff8d3df54",
   "metadata": {},
   "source": [
    "この方法で2つの変数の影響を示すこともできます。  \n",
    "1つは列のファセットで、もう1つは行のファセットです。  \n",
    "\n",
    "グリッドにより多くの変数を追加し始めると、図のサイズを小さくしたくなるかもしれません。  \n",
    "FacetGridのサイズは、各ファセットの高さと縦横比によってパラメータ化されることを覚えておいてください。"
   ]
  },
  {
   "cell_type": "code",
   "execution_count": null,
   "id": "c720f834-2ba8-4962-a285-53f94c4a4e03",
   "metadata": {
    "tags": []
   },
   "outputs": [],
   "source": [
    "sns.relplot(\n",
    "    data=fmri, kind=\"line\",\n",
    "    x=\"timepoint\", y=\"signal\", hue=\"subject\",\n",
    "    col=\"region\", row=\"event\", height=3,\n",
    "    estimator=None\n",
    ")\n",
    "\n",
    "plt.show()"
   ]
  },
  {
   "cell_type": "markdown",
   "id": "370825e4-d6a9-4afa-b158-3aef466ab92e",
   "metadata": {},
   "source": [
    "ある変数の多くのレベルにわたる効果を調べたい場合、その変数を列でファセットし、そのファセットを行に \"ラップ\"するのは良いアイデアです。  \n",
    "特定の列数で折り返すことが出来、高レベルな可視化を実現できます。"
   ]
  },
  {
   "cell_type": "code",
   "execution_count": null,
   "id": "8a1733d0-b791-41f9-b2c7-2c5ff06ab083",
   "metadata": {
    "tags": []
   },
   "outputs": [],
   "source": [
    "sns.relplot(\n",
    "    data=fmri.query(\"region == 'frontal'\"), kind=\"line\",\n",
    "    x=\"timepoint\", y=\"signal\", hue=\"event\", style=\"event\",\n",
    "    col=\"subject\", col_wrap=5,\n",
    "    height=3, aspect=.75, linewidth=2.5,\n",
    ")\n",
    "\n",
    "plt.show()"
   ]
  },
  {
   "cell_type": "markdown",
   "id": "df886e3f-b7d9-4a7e-83d4-4fbb99ee8fad",
   "metadata": {},
   "source": [
    "格子プロットと呼ばれることもあるこれらの可視化は、全体的なパターンとそのパターンからの乖離の両方を目で簡単に検出できる形式でデータを表示するため、非常に効果的です。  \n",
    "`scatterplot()`や`relplot()`関数が提供する柔軟性を利用すべきですが、通常は1つの複雑なプロットよりも複数の単純なプロットの方が効果的であることを常に念頭に置くようにしてください。"
   ]
  }
 ],
 "metadata": {
  "kernelspec": {
   "display_name": "Python 3 (ipykernel)",
   "language": "python",
   "name": "python3"
  },
  "language_info": {
   "codemirror_mode": {
    "name": "ipython",
    "version": 3
   },
   "file_extension": ".py",
   "mimetype": "text/x-python",
   "name": "python",
   "nbconvert_exporter": "python",
   "pygments_lexer": "ipython3",
   "version": "3.9.16"
  }
 },
 "nbformat": 4,
 "nbformat_minor": 5
}
