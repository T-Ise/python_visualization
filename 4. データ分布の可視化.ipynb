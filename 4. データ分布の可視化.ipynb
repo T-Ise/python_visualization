{
 "cells": [
  {
   "cell_type": "markdown",
   "id": "c0a454ad-d8d9-457a-9c3b-5aed2cceeb8b",
   "metadata": {},
   "source": [
    "# データ分布の可視化"
   ]
  },
  {
   "cell_type": "code",
   "execution_count": null,
   "id": "827b6b03-6d50-4d4a-8f47-0921fc210426",
   "metadata": {},
   "outputs": [],
   "source": [
    "import numpy as np\n",
    "import pandas as pd\n",
    "import matplotlib.pyplot as plt\n",
    "import seaborn as sns\n",
    "sns.set_theme(style=\"darkgrid\")"
   ]
  },
  {
   "cell_type": "markdown",
   "id": "3489be62-cd6e-4ecf-85ac-d8d026a0031b",
   "metadata": {},
   "source": [
    "データを分析またはモデル化する取り組みの初期段階は、変数がどのように分布しているかを理解することです。  \n",
    "分布を可視化する技法は，多くの重要な質問に対する迅速な答えを提供できます、  \n",
    "\n",
    "データはどの範囲をカバーしているのか？その中心傾向は? 一方向に大きく偏っているか？二峰性の証拠はあるか？有意な外れ値はあるか？  \n",
    "更に、これらの質問に対する答えは、他の変数によって定義された群ごとで異なるか？  \n",
    "\n",
    "分布モジュールには、このような質問に答えるために設計された関数がいくつかあります。  \n",
    "軸レベルの関数は、`histplot()`、`kdeplot()`、`ecdfplot()`、`rugplot()`です。  \n",
    "\n",
    "これらは図レベルの`displot()`、`jointplot()`、`pairplot()`関数にまとめられています。  \n",
    "\n",
    "分布を可視化するにはいくつかの異なるアプローチがあり、それぞれに相対的な利点と欠点があります。特定の目的に最適なアプローチを選択できるように、これらの要素を理解することが重要です。"
   ]
  },
  {
   "cell_type": "markdown",
   "id": "9b65bdf0-4378-4c52-97ad-45bfe84f8a7b",
   "metadata": {},
   "source": [
    "## 単変量ヒストグラムのプロット"
   ]
  },
  {
   "cell_type": "markdown",
   "id": "37b707bd-442b-46a2-aca1-af0c6961d7a6",
   "metadata": {},
   "source": [
    "分布を可視化する最も一般的なアプローチは、おそらくヒストグラムです。  \n",
    "\n",
    "これは、`histplot()`と同じ基本コードを使用する`displot()`のデフォルトのアプローチです。  \n",
    "ヒストグラムは、データ変数を表す軸が離散的なビンの集合に分割され、各ビン内に入るデータのカウントが対応するバーの高さを用いて表示される棒グラフです。"
   ]
  },
  {
   "cell_type": "code",
   "execution_count": null,
   "id": "f783cbfa-2f68-4585-ad51-c785aff94ad3",
   "metadata": {
    "tags": []
   },
   "outputs": [],
   "source": [
    "penguins = pd.read_csv(\"penguins.csv\")\n",
    "\n",
    "sns.displot(penguins, x=\"flipper_length_mm\")\n",
    "\n",
    "plt.show()"
   ]
  },
  {
   "cell_type": "markdown",
   "id": "e69b80fd-20f4-4c27-9ba6-9e9a94c5b6af",
   "metadata": {},
   "source": [
    "このプロットを見ると、flipper_length_mm変数についていくつかの洞察が得られます。  \n",
    "\n",
    "例えば、最も一般的なフリッパーの長さは約195mmであることがわかるが、分布は二峰性であるため、この1つの数値はデータをうまく表していません。"
   ]
  },
  {
   "cell_type": "markdown",
   "id": "46b3a5af-446b-4b3e-b823-d310186de470",
   "metadata": {},
   "source": [
    "## ビンサイズの選択"
   ]
  },
  {
   "cell_type": "markdown",
   "id": "94f90ade-8f32-4ed2-a279-29362fc77445",
   "metadata": {},
   "source": [
    "ビンのサイズは重要なパラメータであり、間違ったビンのサイズを使用すると、データの重要な特徴を不明瞭にしたり、ランダムな変動から見かけ上の特徴を作り出したりして、誤解を招く可能性があります。  \n",
    "デフォルトでは、`displot()`, `histplot()`は、データの分散とオブザベーションの数に基づいてデフォルトのビン・サイズを選択します。  \n",
    "\n",
    "しかし、このような自動的なアプローチは、データの構造に関する特定の仮定に依存するので、頼りすぎてはいけません。  \n",
    "分布の印象が異なるビン・サイズ間で一貫していることを常にチェックすることをお勧めします。サイズを直接選択するには、`binwidth`パラメータを設定します。"
   ]
  },
  {
   "cell_type": "code",
   "execution_count": null,
   "id": "08861599-df29-4c29-af21-1ee96496c935",
   "metadata": {
    "tags": []
   },
   "outputs": [],
   "source": [
    "sns.displot(penguins, x=\"flipper_length_mm\", binwidth=3)\n",
    "\n",
    "plt.show()"
   ]
  },
  {
   "cell_type": "markdown",
   "id": "211cf5fe-6300-4995-a1af-2bdccc9c9902",
   "metadata": {},
   "source": [
    "ビンのサイズではなくビンの数を指定する方が合理的である場合があります。"
   ]
  },
  {
   "cell_type": "code",
   "execution_count": null,
   "id": "32d46718-002e-4912-acd7-aeda9d7345c8",
   "metadata": {
    "tags": []
   },
   "outputs": [],
   "source": [
    "sns.displot(penguins, x=\"flipper_length_mm\", bins=20)\n",
    "\n",
    "plt.show()"
   ]
  },
  {
   "cell_type": "markdown",
   "id": "3540fbbf-9c25-4389-9909-6ab90ebe7b1b",
   "metadata": {},
   "source": [
    "デフォルトが失敗する状況の 1 つの例は、変数が比較的少数の整数値を取る場合です。その場合、デフォルトのビン幅が小さすぎる可能性があり、分布に厄介なギャップが生じます。"
   ]
  },
  {
   "cell_type": "code",
   "execution_count": null,
   "id": "458b91b4-9ab1-4606-80f0-5ec98d7a6f19",
   "metadata": {
    "tags": []
   },
   "outputs": [],
   "source": [
    "tips = pd.read_csv(\"tips.csv\")\n",
    "\n",
    "sns.displot(tips, x=\"size\")\n",
    "\n",
    "plt.show()"
   ]
  },
  {
   "cell_type": "markdown",
   "id": "681c43b6-901f-4c49-b779-96a051f935b7",
   "metadata": {},
   "source": [
    "1つの正解は、配列を`bins`に渡すことで正確なビン ブレークを指定することです。"
   ]
  },
  {
   "cell_type": "code",
   "execution_count": null,
   "id": "e5cbce18-5aa3-490c-9e12-fcf3e724ba6c",
   "metadata": {
    "tags": []
   },
   "outputs": [],
   "source": [
    "sns.displot(tips, x=\"size\", bins=[1, 2, 3, 4, 5, 6, 7])\n",
    "\n",
    "plt.show()"
   ]
  },
  {
   "cell_type": "markdown",
   "id": "49bddb8d-0556-43fc-bb91-8d59f6b35f36",
   "metadata": {},
   "source": [
    "これは、データセット内の固有の値を対応する値の中心にあるバーで表すビン ブレークを選択する`discrete=True`を設定することによっても実現できます。"
   ]
  },
  {
   "cell_type": "code",
   "execution_count": null,
   "id": "5bfb22a7-7d52-4d86-9cb4-1d6325687a37",
   "metadata": {
    "tags": []
   },
   "outputs": [],
   "source": [
    "sns.displot(tips, x=\"size\", discrete=True)\n",
    "\n",
    "plt.show()"
   ]
  },
  {
   "cell_type": "markdown",
   "id": "0a0c3b16-ed47-485a-9382-c90b17b35138",
   "metadata": {},
   "source": [
    "ヒストグラムのロジックを使用して、カテゴリ変数の分布を視覚化することもできます。  \n",
    "ビンはカテゴリ変数に対して自動的に設定されますが、軸のカテゴリ特性を強調するためにバーをわずかに「縮小」することも役立つ場合があります。"
   ]
  },
  {
   "cell_type": "code",
   "execution_count": null,
   "id": "f00a2432-2665-4b0f-8c65-666f3b588dc2",
   "metadata": {
    "tags": []
   },
   "outputs": [],
   "source": [
    "sns.displot(tips, x=\"day\", shrink=.8)\n",
    "\n",
    "plt.show()"
   ]
  },
  {
   "cell_type": "markdown",
   "id": "781f1ee3-0cd2-4b2c-ba96-5d8a13569a07",
   "metadata": {},
   "source": [
    "## 他の変数での条件付け"
   ]
  },
  {
   "cell_type": "markdown",
   "id": "656f7665-06a9-4b67-8d4b-15cea370ef7d",
   "metadata": {},
   "source": [
    "ある変数の分布を理解したら、次のステップは、その分布の特徴がデータセット内の他の変数で異なるかどうかを尋ねることです。  \n",
    "例えば、上で見たフリッパーの長さの二峰性分布は何によって説明されるのでしょうか？  \n",
    "\n",
    "`displot()`と`histplot()`は、色相セマンティックによって条件付きサブセットをサポートしています。  \n",
    "変数を`hue`に代入すると、その変数のユニークな値のそれぞれについて別々のヒストグラムが描画され、色で区別されます。"
   ]
  },
  {
   "cell_type": "code",
   "execution_count": null,
   "id": "2cbadc31-16e9-4061-b75c-9ee23a0ec219",
   "metadata": {
    "tags": []
   },
   "outputs": [],
   "source": [
    "sns.displot(penguins, x=\"flipper_length_mm\", hue=\"species\")\n",
    "\n",
    "plt.show()"
   ]
  },
  {
   "cell_type": "markdown",
   "id": "5d112e9f-006d-49c6-8722-62fc15e249ce",
   "metadata": {},
   "source": [
    "デフォルトでは、さまざまなヒストグラムが互いに \"重なり\"、場合によっては見分けがつかなくなります。  \n",
    "1つのオプションは、ヒストグラムの視覚表現を棒グラフから「ステップ」プロットに変更することです。"
   ]
  },
  {
   "cell_type": "code",
   "execution_count": null,
   "id": "2c823147-472e-4c6b-bee0-6655f68a412a",
   "metadata": {
    "tags": []
   },
   "outputs": [],
   "source": [
    "sns.displot(penguins, x=\"flipper_length_mm\", hue=\"species\", element=\"step\")\n",
    "\n",
    "plt.show()"
   ]
  },
  {
   "cell_type": "markdown",
   "id": "c1c5cfb5-1c08-4715-a685-7adc6663210c",
   "metadata": {},
   "source": [
    "あるいは、各バーを重ねる代わりに、\"積み重ね\"、つまり縦に移動させることもできます。  \n",
    "このプロットでは、フル・ヒストグラムのアウトラインは、単一の変数のみのプロットと一致します。"
   ]
  },
  {
   "cell_type": "code",
   "execution_count": null,
   "id": "1fb11843-0cc7-405f-8ebc-8a8e7aeb4be9",
   "metadata": {
    "tags": []
   },
   "outputs": [],
   "source": [
    "sns.displot(penguins, x=\"flipper_length_mm\", hue=\"species\", multiple=\"stack\")\n",
    "\n",
    "plt.show()"
   ]
  },
  {
   "cell_type": "markdown",
   "id": "82a45c4d-7742-4c25-9362-dcdcc64f3425",
   "metadata": {},
   "source": [
    "積み重ねヒストグラムは、変数間の部分～全体の関係を強調するが、他の特徴を不明瞭にすることがあります（例えば、アデリー分布の最頻値を決定するのは難しい）。  \n",
    "もう1つのオプションは、バーを \"かわす\"ことで、バーを水平に動かして幅を小さくすることができます。  \n",
    "\n",
    "これは、重なりがなく、棒グラフの高さが同等であることを保証します。  \n",
    "しかし、これはカテゴリカル変数がレベルの数が少ないときにのみうまく機能します。"
   ]
  },
  {
   "cell_type": "code",
   "execution_count": null,
   "id": "bf8de4c5-5df8-4c4f-a4b9-45efa2e8aae3",
   "metadata": {
    "tags": []
   },
   "outputs": [],
   "source": [
    "sns.displot(penguins, x=\"flipper_length_mm\", hue=\"sex\", multiple=\"dodge\")\n",
    "\n",
    "plt.show()"
   ]
  },
  {
   "cell_type": "markdown",
   "id": "91f9b1e0-b7e3-4633-a694-b9e602db2a93",
   "metadata": {},
   "source": [
    "`displot()`は図レベルの関数であり、FacetGrid上に描画されるため、2番目の変数を`hue`ではなく（あるいは`hue`に加えて）`col`または`row`に代入することで、個別のサブプロットに個々の分布を描画することも可能です。  \n",
    "これは、各サブセットの分布をよく表しますが、直接比較を描くことがより難しくなります。"
   ]
  },
  {
   "cell_type": "code",
   "execution_count": null,
   "id": "7768b9fb-4856-4f6a-815a-4907ce7ef88c",
   "metadata": {
    "tags": []
   },
   "outputs": [],
   "source": [
    "sns.displot(penguins, x=\"flipper_length_mm\", col=\"sex\")\n",
    "\n",
    "plt.show()"
   ]
  },
  {
   "cell_type": "markdown",
   "id": "577c9030-64dd-409e-acb0-e2c0f9186718",
   "metadata": {},
   "source": [
    "### 正規化ヒストグラム統計量"
   ]
  },
  {
   "cell_type": "markdown",
   "id": "a0099aba-7686-4fd5-b8ae-557083ad498c",
   "metadata": {},
   "source": [
    "注意すべきもう1つのポイントは、サブセットがオブザベーションの数が不均等である場合、それらの分布をカウントで比較することは理想的でないかもしれないということです。  \n",
    "1つの解決策は、 statパラメータを用いてカウントを正規化することです。"
   ]
  },
  {
   "cell_type": "code",
   "execution_count": null,
   "id": "2afc04e1-7154-4fb3-a868-bb66da0a517d",
   "metadata": {
    "tags": []
   },
   "outputs": [],
   "source": [
    "sns.displot(penguins, x=\"flipper_length_mm\", hue=\"species\", stat=\"density\")\n",
    "\n",
    "plt.show()"
   ]
  },
  {
   "cell_type": "markdown",
   "id": "ab244258-9795-490f-8e00-00ea2b00ee00",
   "metadata": {},
   "source": [
    "しかしデフォルトでは、正規化は分布全体に適用されるので、これは単に棒グラフの高さを再スケーリングします。  \n",
    "`common_norm=False` を設定すると、各サブセットが独立して正規化されます。"
   ]
  },
  {
   "cell_type": "code",
   "execution_count": null,
   "id": "4ecad9d9-1637-4002-9afe-4d6f44bda4d4",
   "metadata": {
    "tags": []
   },
   "outputs": [],
   "source": [
    "sns.displot(penguins, x=\"flipper_length_mm\", hue=\"species\", stat=\"density\", common_norm=False)\n",
    "\n",
    "plt.show()"
   ]
  },
  {
   "cell_type": "markdown",
   "id": "5696aa22-67c3-4d6e-bb55-b368229d7cca",
   "metadata": {},
   "source": [
    "密度の正規化は、棒グラフの面積の合計が1になるようにスケーリングします。  \n",
    "その結果、密度軸は直接解釈できなくなります。  \n",
    "\n",
    "もう1つのオプションは、バーの高さの合計が1になるように正規化することです。  \n",
    "これは変数が離散的であるときに最も意味があります。"
   ]
  },
  {
   "cell_type": "code",
   "execution_count": null,
   "id": "d1b6f8d7-0698-426e-be28-b85b937720af",
   "metadata": {
    "tags": []
   },
   "outputs": [],
   "source": [
    "sns.displot(penguins, x=\"flipper_length_mm\", hue=\"species\", stat=\"probability\")\n",
    "\n",
    "plt.show()"
   ]
  },
  {
   "cell_type": "markdown",
   "id": "d63183ad-4220-4d27-8e88-9ff98f21dd0e",
   "metadata": {},
   "source": [
    "### カーネル密度推定"
   ]
  },
  {
   "cell_type": "markdown",
   "id": "f78120ac-60bf-41a9-ba91-f513e1fd37a3",
   "metadata": {},
   "source": [
    "ヒストグラムは、オブザベーションをビン化してカウントすることで、データを生成した基本的な確率密度関数を近似することを目的としています。  \n",
    "カーネル密度推定（KDE）は、同じ問題に対する異なるソリューションを提示します。   \n",
    "\n",
    "KDEプロットは、離散ビンを使用するのではなく、ガウス・カーネルでオブザベーションを平滑化し、連続密度推定を生成します。"
   ]
  },
  {
   "cell_type": "code",
   "execution_count": null,
   "id": "fbdd7f37-9311-46e2-9fb6-02b194e4ffaf",
   "metadata": {
    "tags": []
   },
   "outputs": [],
   "source": [
    "sns.displot(penguins, x=\"flipper_length_mm\", kind=\"kde\")\n",
    "\n",
    "plt.show()"
   ]
  },
  {
   "cell_type": "markdown",
   "id": "3d2ff6a4-7500-4194-9c88-2c28f815ebe8",
   "metadata": {},
   "source": [
    "ヒストグラムのビンサイズと同様に、KDEがデータを正確に表現できるかどうかは、平滑化帯域幅の選択に依存します。  \n",
    "過剰に平滑化された推定値は、意味のある特徴を消してしまうかもしれませんが、過小に平滑化された推定値は、ランダムなノイズの中にある真の形状を不明瞭にしてしまうかもしれません。  \n",
    "\n",
    "推定値のロバスト性を確認する最も簡単な方法は、デフォルトの帯域幅を調整することです。"
   ]
  },
  {
   "cell_type": "code",
   "execution_count": null,
   "id": "4669bb9a-c069-44c5-b06d-a9820e0b93d6",
   "metadata": {
    "tags": []
   },
   "outputs": [],
   "source": [
    "sns.displot(penguins, x=\"flipper_length_mm\", kind=\"kde\", bw_adjust=.25)\n",
    "\n",
    "plt.show()"
   ]
  },
  {
   "cell_type": "markdown",
   "id": "09d27141-4cf3-480a-918b-1b7793dbf996",
   "metadata": {},
   "source": [
    "帯域幅が狭いと二峰性はよりはっきしますが、カーブの滑らかさはかなり失われます。  \n",
    "対照的に、帯域幅が広いと二峰性はほとんど完全に見えなくなります。"
   ]
  },
  {
   "cell_type": "code",
   "execution_count": null,
   "id": "13319cf6-67ba-4a29-8757-d999663b8b9a",
   "metadata": {
    "tags": []
   },
   "outputs": [],
   "source": [
    "sns.displot(penguins, x=\"flipper_length_mm\", kind=\"kde\", bw_adjust=2)\n",
    "\n",
    "plt.show()"
   ]
  },
  {
   "cell_type": "markdown",
   "id": "327738ff-3a4b-45c5-aa57-8de22d9c3d08",
   "metadata": {},
   "source": [
    "### 他の変数の条件付け"
   ]
  },
  {
   "cell_type": "markdown",
   "id": "4b0fcb67-33d3-4ae2-8473-10b145c91f8d",
   "metadata": {
    "tags": []
   },
   "source": [
    "ヒストグラムと同様、`hue`引数を代入すると、その変数のレベルごとに個別の密度推定が計算されます。"
   ]
  },
  {
   "cell_type": "code",
   "execution_count": null,
   "id": "b33250b0-9b02-4068-9eb3-c34d1dfffc36",
   "metadata": {
    "tags": []
   },
   "outputs": [],
   "source": [
    "sns.displot(penguins, x=\"flipper_length_mm\", hue=\"species\", kind=\"kde\")\n",
    "\n",
    "plt.show()"
   ]
  },
  {
   "cell_type": "markdown",
   "id": "d99e1402-2f47-45ae-8709-07f9804f6cf8",
   "metadata": {},
   "source": [
    "多くの場合、レイヤーKDEはレイヤーヒストグラムよりも解釈しやすいので、比較のタスクにはしばしば良い選択となります。  \n",
    "しかし、複数の分布を解決するための同じオプションの多くは、KDEにも当てはまります。"
   ]
  },
  {
   "cell_type": "code",
   "execution_count": null,
   "id": "c0cb49fb-4098-4b9a-b1e7-23e02c390268",
   "metadata": {
    "tags": []
   },
   "outputs": [],
   "source": [
    "sns.displot(penguins, x=\"flipper_length_mm\", hue=\"species\", kind=\"kde\", multiple=\"stack\")\n",
    "\n",
    "plt.show()"
   ]
  },
  {
   "cell_type": "markdown",
   "id": "75573ef2-3a0f-4050-96ec-e7079169e43c",
   "metadata": {},
   "source": [
    "積み重ねプロットでは、デフォルトで各曲線間の領域が塗りつぶされていることに注意してください。  \n",
    "デフォルトのアルファ値（不透明度）は異なるが、単一密度または層状密度の曲線を塗りつぶすことも可能です。"
   ]
  },
  {
   "cell_type": "code",
   "execution_count": null,
   "id": "62e96b59-428b-4cfb-a5d6-e0b453701b10",
   "metadata": {
    "tags": []
   },
   "outputs": [],
   "source": [
    "sns.displot(penguins, x=\"flipper_length_mm\", hue=\"species\", kind=\"kde\", fill=True)\n",
    "\n",
    "plt.show()"
   ]
  },
  {
   "cell_type": "markdown",
   "id": "d8629e93-3675-494c-a8a0-8497879ca831",
   "metadata": {},
   "source": [
    "### カーネル密度推定の落とし穴"
   ]
  },
  {
   "cell_type": "markdown",
   "id": "2af67ff4-c47f-4396-b8da-f7a16dcb0625",
   "metadata": {},
   "source": [
    "KDEプロットには多くの利点があります。  \n",
    "データの重要な特徴（中心傾向、二峰性、スキュー）が見分けやすく、部分集合間の比較が容易です。  \n",
    "\n",
    "しかし、KDEが基礎となるデータをうまく表現できない状況もあります。  \n",
    "これは、KDEのロジックが、基礎となる分布が滑らかで、境界がないと仮定しているからです。  \n",
    "\n",
    "この仮定が失敗する1つの方法は，変数が自然に境界を持つ量を反映するときです。  \n",
    "境界の近くにオブザベーションがある場合（たとえば、負になりえない変数の小さな値など）、KDE曲線は非現実的な値まで伸びるかもしれません。"
   ]
  },
  {
   "cell_type": "code",
   "execution_count": null,
   "id": "1425998e-e713-40fd-9d69-d1d2121f75d8",
   "metadata": {
    "tags": []
   },
   "outputs": [],
   "source": [
    "sns.displot(tips, x=\"total_bill\", kind=\"kde\")\n",
    "\n",
    "plt.show()"
   ]
  },
  {
   "cell_type": "markdown",
   "id": "28541edb-d3ea-4714-b9fc-627d748f9b04",
   "metadata": {},
   "source": [
    "これは、曲線が極端なデータポイントからどこまで伸びるかを指定するカットパラメータで部分的に回避することができます。  \n",
    "しかし、これは曲線が描かれる場所にしか影響しません。密度推定値は、データが存在し得ない範囲でも平滑化され、分布の極端な部分で人為的に低くなります。"
   ]
  },
  {
   "cell_type": "code",
   "execution_count": null,
   "id": "61807df9-a046-4cab-aa65-2e5239978e5d",
   "metadata": {
    "tags": []
   },
   "outputs": [],
   "source": [
    "sns.displot(tips, x=\"total_bill\", kind=\"kde\", cut=0)\n",
    "\n",
    "plt.show()"
   ]
  },
  {
   "cell_type": "markdown",
   "id": "fbe6b9ee-1308-4b8e-bc45-e0930f9d64cb",
   "metadata": {
    "tags": []
   },
   "source": [
    "KDEのアプローチは、離散的なデータ、またはデータが本来連続的であるにもかかわらず特定の値が過剰に表現されている場合にも失敗します。  \n",
    "心に留めておくべき重要なことは、データ自体が滑らかでなくても、KDEは常に滑らかな曲線を示すということです。  \n",
    "\n",
    "例えば、ダイヤモンドの重さの分布を考えてみましょう"
   ]
  },
  {
   "cell_type": "code",
   "execution_count": null,
   "id": "48139e18-5b75-481a-a1b4-86e01a8315c0",
   "metadata": {
    "tags": []
   },
   "outputs": [],
   "source": [
    "diamonds = pd.read_csv(\"diamonds.csv\")\n",
    "\n",
    "sns.displot(diamonds, x=\"carat\", kind=\"kde\")\n",
    "\n",
    "plt.show()"
   ]
  },
  {
   "cell_type": "markdown",
   "id": "34e5cc9f-6503-4194-9e58-aa8acf230ac0",
   "metadata": {},
   "source": [
    "KDEは特定の値の周辺にピークがあることを示唆しているが、ヒストグラムはもっとギザギザの分布を示しています。"
   ]
  },
  {
   "cell_type": "code",
   "execution_count": null,
   "id": "88b036db-4246-4c6c-bc12-5d0a11e4e7dd",
   "metadata": {
    "tags": []
   },
   "outputs": [],
   "source": [
    "sns.displot(diamonds, x=\"carat\")\n",
    "\n",
    "plt.show()"
   ]
  },
  {
   "cell_type": "markdown",
   "id": "0e85026d-617d-429a-b658-0ead978b0a1f",
   "metadata": {},
   "source": [
    "妥協案として、これら2つのアプローチを組み合わせることが可能です。  \n",
    "ヒストグラム・モードでは、`displot()`は（`histplot()`と同様に）平滑化されたKDE曲線を含めるオプションがあります。  \n",
    "\n",
    "（kde=Trueであり、kind=\"kde \"ではないことに注意）"
   ]
  },
  {
   "cell_type": "code",
   "execution_count": null,
   "id": "f8b5525e-1eaf-40cb-b510-f028cfae00e9",
   "metadata": {
    "tags": []
   },
   "outputs": [],
   "source": [
    "sns.displot(diamonds, x=\"carat\", kde=True)\n",
    "\n",
    "plt.show()"
   ]
  },
  {
   "cell_type": "markdown",
   "id": "f7f7c0c6-14b7-4e33-b267-216871eba868",
   "metadata": {},
   "source": [
    "### 経験的累積分布"
   ]
  },
  {
   "cell_type": "markdown",
   "id": "c6f01a17-2f82-4d7f-b731-ed30430b1e34",
   "metadata": {
    "tags": []
   },
   "source": [
    "分布を可視化する3番目のオプションは，\"経験的累積分布関数\" (ECDF) を計算します。  \n",
    "このプロットは，曲線の高さがより小さい値を持つオブザベーションの比率を反映するように、各データポイントを通して単調増加する曲線を描きます。"
   ]
  },
  {
   "cell_type": "code",
   "execution_count": null,
   "id": "b0c6bab5-5a2a-4935-98cd-7cadccd60c5a",
   "metadata": {
    "tags": []
   },
   "outputs": [],
   "source": [
    "sns.displot(penguins, x=\"flipper_length_mm\", kind=\"ecdf\")\n",
    "\n",
    "plt.show()"
   ]
  },
  {
   "cell_type": "markdown",
   "id": "3c3879b3-66d8-4bda-9f60-cd72c058d748",
   "metadata": {
    "tags": []
   },
   "source": [
    "ECDFプロットには2つの重要な利点があります。  \n",
    "ヒストグラムやKDEと異なり、各データポイントを直接表現します。  \n",
    "\n",
    "つまり，ビン・サイズやスムージング・パラメータを考慮する必要がなく、曲線は単調増加なので、複数の分布を比較するのに適しています。"
   ]
  },
  {
   "cell_type": "code",
   "execution_count": null,
   "id": "710456d5-e9e3-479b-98a9-dedb8c3a2782",
   "metadata": {
    "tags": []
   },
   "outputs": [],
   "source": [
    "sns.displot(penguins, x=\"flipper_length_mm\", hue=\"species\", kind=\"ecdf\")\n",
    "\n",
    "plt.show()"
   ]
  },
  {
   "cell_type": "markdown",
   "id": "422f9ed0-6c0b-48bc-be55-591fa0f7d4c1",
   "metadata": {},
   "source": [
    "ECDFプロットの主な欠点は、ヒストグラムや密度曲線よりも直感的に分布の形状を表せないことです。  \n",
    "ヒストグラムではフリッパーの長さの二峰性がすぐにわかりますが、ECDFプロットでそれを見るには、変化する傾きを探す必要があります。  \n",
    "\n",
    "それでも、練習すれば、ECDFを調べることで、分布に関するすべての重要な質問に答えることができるようになります。"
   ]
  },
  {
   "cell_type": "markdown",
   "id": "a3e1d2c8-23ad-413f-8642-74a4d6f906fb",
   "metadata": {},
   "source": [
    "## 二変量分布の可視化"
   ]
  },
  {
   "cell_type": "markdown",
   "id": "08229c5c-8b92-4eeb-9779-250125fd1678",
   "metadata": {},
   "source": [
    "ここまでのすべての例は、一変量分布を考えてきました。  \n",
    "単一の変数の分布で、`hue`に割り当てられた2番目の変数が条件です。  \n",
    "\n",
    "しかし、2番目の変数をyに代入すると、2変量分布がプロットされます。"
   ]
  },
  {
   "cell_type": "code",
   "execution_count": null,
   "id": "8e847ca1-c718-43b4-834b-a842721fd5f0",
   "metadata": {
    "tags": []
   },
   "outputs": [],
   "source": [
    "sns.displot(penguins, x=\"bill_length_mm\", y=\"bill_depth_mm\")\n",
    "\n",
    "plt.show()"
   ]
  },
  {
   "cell_type": "markdown",
   "id": "83bc6f86-33f9-4cb8-8d4b-7c19c5d89d1c",
   "metadata": {},
   "source": [
    "2変量ヒストグラムは、プロットをタイル状に並べる矩形内でデータを分割し、各矩形内のオブザベーションのカウントを塗りつぶしの色で表示します（`ヒートマップ`に似ています）。  \n",
    "同様に、2変量KDEプロットは、(x, y)オブザベーションを2Dガウシアンで平滑化します。  \n",
    "\n",
    "デフォルトの表現は、2D密度の輪郭を表示します。"
   ]
  },
  {
   "cell_type": "code",
   "execution_count": null,
   "id": "9647b56d-a155-4715-973b-23091e6991a5",
   "metadata": {
    "tags": []
   },
   "outputs": [],
   "source": [
    "sns.displot(penguins, x=\"bill_length_mm\", y=\"bill_depth_mm\", kind=\"kde\")\n",
    "\n",
    "plt.show()"
   ]
  },
  {
   "cell_type": "markdown",
   "id": "82be012e-6318-4069-9391-3724ab0c3d73",
   "metadata": {},
   "source": [
    "`hue`変数を代入すると、複数のヒートマップまたは等高線集合が異なる色を使ってプロットされます。  \n",
    "2変量ヒストグラムの場合、これは条件分布間の重なりが最小の場合にのみうまく機能します。"
   ]
  },
  {
   "cell_type": "code",
   "execution_count": null,
   "id": "196a4ad3-fe91-424f-bf0c-57aedec4fdef",
   "metadata": {
    "tags": []
   },
   "outputs": [],
   "source": [
    "sns.displot(penguins, x=\"bill_length_mm\", y=\"bill_depth_mm\", hue=\"species\")\n",
    "\n",
    "plt.show()"
   ]
  },
  {
   "cell_type": "markdown",
   "id": "9f423c88-5b4e-4000-b036-c33158fe8695",
   "metadata": {},
   "source": [
    "2変量KDEプロットの等高線アプローチは、オーバーラップを評価するのに適していますが、等高線が多すぎるとプロットが煩雑になります。"
   ]
  },
  {
   "cell_type": "code",
   "execution_count": null,
   "id": "f03c8261-a871-4375-9f4e-f43907d07632",
   "metadata": {
    "tags": []
   },
   "outputs": [],
   "source": [
    "sns.displot(penguins, x=\"bill_length_mm\", y=\"bill_depth_mm\", hue=\"species\", kind=\"kde\")\n",
    "\n",
    "plt.show()"
   ]
  },
  {
   "cell_type": "markdown",
   "id": "dde6add9-7fa8-47cf-9c5c-5e6b7448b947",
   "metadata": {},
   "source": [
    "一変量プロットと同様、ビン・サイズまたはスムージング帯域幅の選択は、プロットが基礎となる二変量分布をどれだけよく表現するかを決定します。  \n",
    "値のペアを渡すことで各変数ごとにチューニングできます。"
   ]
  },
  {
   "cell_type": "code",
   "execution_count": null,
   "id": "3ade891c-6fd8-4da3-bb26-96e490b9c1b7",
   "metadata": {
    "tags": []
   },
   "outputs": [],
   "source": [
    "sns.displot(penguins, x=\"bill_length_mm\", y=\"bill_depth_mm\", binwidth=(2, .5))\n",
    "\n",
    "plt.show()"
   ]
  },
  {
   "cell_type": "markdown",
   "id": "9b3c6937-203f-4ffe-a3ff-300bbbdc5e3d",
   "metadata": {
    "tags": []
   },
   "source": [
    "ヒートマップの解釈を助けるために、カウントと色の強さの対応を示すカラーバーを追加できます。"
   ]
  },
  {
   "cell_type": "code",
   "execution_count": null,
   "id": "cb4559b7-84d3-4469-9e72-7d9181ab189f",
   "metadata": {
    "tags": []
   },
   "outputs": [],
   "source": [
    "sns.displot(penguins, x=\"bill_length_mm\", y=\"bill_depth_mm\", binwidth=(2, .5), cbar=True)\n",
    "\n",
    "plt.show()"
   ]
  },
  {
   "cell_type": "markdown",
   "id": "66e9ba90-fce3-4fe1-ad15-d13235d7ea53",
   "metadata": {},
   "source": [
    "2変量密度の等値線の意味は、それほど単純ではありません。  \n",
    "密度は直接解釈できないので、等値線は密度の等比率で描かれ、各曲線は密度のある割合pがその下にあるような水準集合を示すことを意味します。  \n",
    "\n",
    "pの値は等間隔に配置され、最低レベルは閾値パラメータによって制御され、その数はレベルによって制御されます。"
   ]
  },
  {
   "cell_type": "code",
   "execution_count": null,
   "id": "0c43b41d-5808-4f6b-9420-f2eaf9c21ae8",
   "metadata": {
    "tags": []
   },
   "outputs": [],
   "source": [
    "sns.displot(penguins, x=\"bill_length_mm\", y=\"bill_depth_mm\", kind=\"kde\", thresh=.2, levels=4)\n",
    "\n",
    "plt.show()"
   ]
  },
  {
   "cell_type": "markdown",
   "id": "b0cf28d8-08d2-4b82-b88b-52e71d20b224",
   "metadata": {},
   "source": [
    "`levels`引数は、よりコントロールしやすいように、値のリストも受け付けます。"
   ]
  },
  {
   "cell_type": "code",
   "execution_count": null,
   "id": "3ba3f89f-1c3d-4bdc-bba0-9a26a89c908e",
   "metadata": {
    "tags": []
   },
   "outputs": [],
   "source": [
    "sns.displot(penguins, x=\"bill_length_mm\", y=\"bill_depth_mm\", kind=\"kde\", levels=[.01, .05, .1, .8])\n",
    "\n",
    "plt.show()"
   ]
  },
  {
   "cell_type": "markdown",
   "id": "885eb748-a0b4-43b9-bb81-862aaa33be21",
   "metadata": {},
   "source": [
    "2変量ヒストグラムは、1つまたは両方の変数を離散にすることができます。  \n",
    "\n",
    "1つの離散変数と1つの連続変数をプロットすることは、条件付き一変量分布を比較するもう1つの方法を提供します。"
   ]
  },
  {
   "cell_type": "code",
   "execution_count": null,
   "id": "e1fc0de5-9baa-4b81-a406-dae98b51ac1d",
   "metadata": {
    "tags": []
   },
   "outputs": [],
   "source": [
    "sns.displot(diamonds, x=\"price\", y=\"clarity\", log_scale=(True, False))\n",
    "\n",
    "plt.show()"
   ]
  },
  {
   "cell_type": "markdown",
   "id": "9d4e76ae-ef91-47d8-affb-80545d04fa6f",
   "metadata": {
    "tags": []
   },
   "source": [
    "対照的に、2つの離散変数をプロットすることは、オブザベーションのクロス集計を示す簡単な方法です。"
   ]
  },
  {
   "cell_type": "code",
   "execution_count": null,
   "id": "1c5222ba-1567-4088-8277-55d41078e1bb",
   "metadata": {
    "tags": []
   },
   "outputs": [],
   "source": [
    "sns.displot(diamonds, x=\"color\", y=\"clarity\")\n",
    "\n",
    "plt.show()"
   ]
  },
  {
   "cell_type": "markdown",
   "id": "1a505e21-d9cb-415b-b9e7-fa3f8c8b1f0a",
   "metadata": {},
   "source": [
    "## 他の設定における分布の可視化"
   ]
  },
  {
   "cell_type": "markdown",
   "id": "a5053e37-9590-428c-9976-d804e29d5ae7",
   "metadata": {},
   "source": [
    "### 結合分布と周辺分布のプロット\n",
    "\n",
    "1つ目の`jointplot()`は、2変量の相対分布または分布プロットを2変数の周辺分布で補強します。  \n",
    "デフォルトでは、`jointplot()`は`scatterplot()`を用いて2変量分布を表現し、histplot()を用いて周辺分布を表現します。"
   ]
  },
  {
   "cell_type": "code",
   "execution_count": null,
   "id": "a159f1da-dd27-4559-a91c-6bc54a7d0a98",
   "metadata": {
    "tags": []
   },
   "outputs": [],
   "source": [
    "sns.jointplot(data=penguins, x=\"bill_length_mm\", y=\"bill_depth_mm\")\n",
    "\n",
    "plt.show()"
   ]
  },
  {
   "cell_type": "markdown",
   "id": "55308ad7-62f2-4756-9e8c-3a3b58d3b2f3",
   "metadata": {},
   "source": [
    "`displot()`と同様に、`jointplot()`で異なるkind=\"kde \"を設定すると、`kdeplot()`を使用したジョイントプロットとマージナルプロットの両方が変更されます。"
   ]
  },
  {
   "cell_type": "code",
   "execution_count": null,
   "id": "12fa1dc6-e536-45bf-8f34-d1097baa898b",
   "metadata": {
    "tags": []
   },
   "outputs": [],
   "source": [
    "sns.jointplot(\n",
    "    data=penguins,\n",
    "    x=\"bill_length_mm\", y=\"bill_depth_mm\", hue=\"species\",\n",
    "    kind=\"kde\"\n",
    ")\n",
    "\n",
    "plt.show()"
   ]
  },
  {
   "cell_type": "markdown",
   "id": "0ef7bea5-0a8c-472e-9f0b-f88c0fa521ee",
   "metadata": {},
   "source": [
    "`jointplot()`は、JointGridクラスの便利なインターフェイスで、直接使うとより柔軟性があります。"
   ]
  },
  {
   "cell_type": "code",
   "execution_count": null,
   "id": "5afb3569-86d1-46f0-b9cc-f2bbec2efe3b",
   "metadata": {
    "tags": []
   },
   "outputs": [],
   "source": [
    "g = sns.JointGrid(data=penguins, x=\"bill_length_mm\", y=\"bill_depth_mm\")\n",
    "\n",
    "g.plot_joint(sns.histplot)\n",
    "\n",
    "g.plot_marginals(sns.boxplot)\n",
    "\n",
    "plt.show()"
   ]
  },
  {
   "cell_type": "markdown",
   "id": "00b31e88-b784-43f2-afc9-8973a6e599bf",
   "metadata": {},
   "source": [
    "より控えめな方法で限界分布を表示するには、\"ラグ \"プロットを使用します。  \n",
    "これは、個々のオブザベーションを表すためにプロットの端に小さな目盛りを追加します。"
   ]
  },
  {
   "cell_type": "code",
   "execution_count": null,
   "id": "f1a408bf-86d7-443d-8386-a4f90d770e6c",
   "metadata": {
    "tags": []
   },
   "outputs": [],
   "source": [
    "sns.displot(\n",
    "    penguins, x=\"bill_length_mm\", y=\"bill_depth_mm\",\n",
    "    kind=\"kde\", rug=True\n",
    ")\n",
    "\n",
    "plt.show()"
   ]
  },
  {
   "cell_type": "markdown",
   "id": "a5ad539f-bf03-458a-89c6-8a119cd7911f",
   "metadata": {},
   "source": [
    "また、axes-level `rugplot()`関数を使用すると、他のあらゆる種類のプロットの横にラグを追加することができます。"
   ]
  },
  {
   "cell_type": "code",
   "execution_count": null,
   "id": "4521bb84-4cf8-4530-9580-1454f9ca896f",
   "metadata": {
    "tags": []
   },
   "outputs": [],
   "source": [
    "sns.relplot(data=penguins, x=\"bill_length_mm\", y=\"bill_depth_mm\")\n",
    "sns.rugplot(data=penguins, x=\"bill_length_mm\", y=\"bill_depth_mm\")\n",
    "\n",
    "plt.show()"
   ]
  },
  {
   "cell_type": "markdown",
   "id": "0f8c5c14-4550-4991-9c70-2e35a2e92d6c",
   "metadata": {},
   "source": [
    "## 多数の分布のプロット\n",
    "\n",
    "`pairplot()`関数は、ジョイント分布とマージナル分布の類似したブレンドを提供します。  \n",
    "しかし、単一の関係に注目するのではなく、`pairplot()`は、データセット内のすべての変数の単変量分布を、それらのすべての対関係とともに可視化します。"
   ]
  },
  {
   "cell_type": "code",
   "execution_count": null,
   "id": "523250e8-954b-4e49-88be-844bbeecebb9",
   "metadata": {
    "tags": []
   },
   "outputs": [],
   "source": [
    "sns.pairplot(penguins)\n",
    "\n",
    "plt.show()"
   ]
  },
  {
   "cell_type": "markdown",
   "id": "98751577-dbea-49a6-a525-6b46da2fe48a",
   "metadata": {},
   "source": [
    "`jointplot()`, `JointGrid`と同様に、基礎となるPairGridを直接使用すると、タイピングが少し増えるだけで、より柔軟性が増します。"
   ]
  },
  {
   "cell_type": "code",
   "execution_count": null,
   "id": "3625983b-1a54-4542-b2fc-ec3b02a227c4",
   "metadata": {
    "tags": []
   },
   "outputs": [],
   "source": [
    "g = sns.PairGrid(penguins)\n",
    "g.map_upper(sns.histplot)\n",
    "g.map_lower(sns.kdeplot, fill=True)\n",
    "g.map_diag(sns.histplot, kde=True)\n",
    "\n",
    "plt.show()"
   ]
  }
 ],
 "metadata": {
  "kernelspec": {
   "display_name": "Python 3 (ipykernel)",
   "language": "python",
   "name": "python3"
  },
  "language_info": {
   "codemirror_mode": {
    "name": "ipython",
    "version": 3
   },
   "file_extension": ".py",
   "mimetype": "text/x-python",
   "name": "python",
   "nbconvert_exporter": "python",
   "pygments_lexer": "ipython3",
   "version": "3.9.16"
  }
 },
 "nbformat": 4,
 "nbformat_minor": 5
}
