{
 "cells": [
  {
   "cell_type": "markdown",
   "metadata": {},
   "source": [
    "# Matplotlibライブラリ\n",
    "Matplotlibライブラリについて説明します。\n",
    "\n",
    "参考\n",
    "\n",
    "- https://matplotlib.org/\n",
    "\n",
    "**Matplotlib**ライブラリにはグラフを可視化するためのモジュールが含まれています。  \n",
    "以下では、Matplotlibライブラリのモジュールを使った、グラフの基本的な描画について説明します。\n",
    "\n",
    "Matoplotlibライブラリを使用するには、まず `matplotlib` のモジュールをインポートします。ここでは、基本的なグラフを描画するための `matplotlib.pyplot` モジュールをインポートします。慣例として、同モジュールを `plt` と別名をつけてコードの中で使用します。  \n",
    "また、グラフで可視化するデータはリストや配列を用いることが多いため、 `numpy` モジュールも併せてインポートします。"
   ]
  },
  {
   "cell_type": "code",
   "execution_count": null,
   "metadata": {},
   "outputs": [],
   "source": [
    "import numpy as np\n",
    "import matplotlib.pyplot as plt"
   ]
  },
  {
   "cell_type": "markdown",
   "metadata": {},
   "source": [
    "よくある例として、`%matplotlib inline` を使用する事があります。  \n",
    "`matplotlib` では、通常 `show()` 関数を呼ぶと描画を行いますが、`inline` 表示指定の場合、`show()` 関数を省略できます。  \n",
    "  \n",
    "本講座では自動的に描画を行うことはなく、適切なタイミングで`show()` 関数を使用する為に`%matplotlib inline` は使用しません。"
   ]
  },
  {
   "cell_type": "markdown",
   "metadata": {},
   "source": [
    "## 線グラフ\n",
    "\n",
    "`pyplot` モジュールの **`plot()`** 関数を用いて、リストの要素の数値をy軸の値として**グラフ**を描画します。  \n",
    "y軸の値に対応するx軸の値は、リストの各要素のインデックスとなっています。\n",
    "\n",
    "具体的には、次のようにすることで `リストA` のインデックス `i` に対して、`(i, リストA[i])` の位置に点を打ち、各点を線でつなぎます。\n",
    "\n",
    "---\n",
    "```Python\n",
    "plt.plot(リストA)\n",
    "```\n",
    "---\n",
    "\n",
    "たとえば、次のようになります。"
   ]
  },
  {
   "cell_type": "code",
   "execution_count": null,
   "metadata": {},
   "outputs": [],
   "source": [
    "# plotするデータ\n",
    "d = [0, 1, 4, 9, 16]\n",
    "\n",
    "# plot関数で描画\n",
    "plt.plot(d);\n",
    "\n",
    "plt.show()\n",
    "# セルの最後に評価されたオブジェクトの出力表示を抑制するために、以下ではセルの最後の行にセミコロン (`;`) をつけています。\n",
    "# 試しにセミコロンを消した場合も試してみてください。"
   ]
  },
  {
   "cell_type": "markdown",
   "metadata": {},
   "source": [
    "`plot()` 関数では、x, y の両方の軸の値を引数に渡すこともできます。\n",
    "\n",
    "具体的には、次のように `リストX` と `リストY` を引数として与えると、各 `i` に対して、 `(リストX[i], リストY[i])` の位置に点を打ち、各点を線でつなぎます。\n",
    "\n",
    "---\n",
    "```Python\n",
    "plt.plot(リストX, リストY)\n",
    "```\n",
    "---\n"
   ]
  },
  {
   "cell_type": "code",
   "execution_count": null,
   "metadata": {},
   "outputs": [],
   "source": [
    "# plotするデータ\n",
    "x = [0, 1, 2, 3, 4]\n",
    "y = [0, 3, 6, 9, 12]\n",
    "\n",
    "# plot関数で描画\n",
    "plt.plot(x, y);\n",
    "\n",
    "plt.show()"
   ]
  },
  {
   "cell_type": "markdown",
   "metadata": {},
   "source": [
    "リストの代わりに**NumPy**ライブラリの配列を与えても同じ結果が得られます。"
   ]
  },
  {
   "cell_type": "code",
   "execution_count": null,
   "metadata": {},
   "outputs": [],
   "source": [
    "# plotするデータ\n",
    "x = np.array([0, 1, 2, 3, 4])\n",
    "y = np.array([0, 3, 6, 9, 12])\n",
    "\n",
    "# plot関数で描画\n",
    "plt.plot(x, y); \n",
    "\n",
    "plt.show()"
   ]
  },
  {
   "cell_type": "markdown",
   "metadata": {},
   "source": [
    "以下のようにグラフを複数まとめて表示することもできます。複数のグラフを表示すると、線ごとに異なる色が自動で割り当てられます。"
   ]
  },
  {
   "cell_type": "code",
   "execution_count": null,
   "metadata": {},
   "outputs": [],
   "source": [
    "# plotするデータ\n",
    "data = [0, 1, 4, 9, 16]\n",
    "x = [0, 1, 2, 3, 4]\n",
    "y = [0, 1, 2, 3, 4]\n",
    "\n",
    "# plot関数で描画\n",
    "plt.plot(x, y)\n",
    "plt.plot(data);\n",
    "\n",
    "plt.show()"
   ]
  },
  {
   "cell_type": "markdown",
   "metadata": {},
   "source": [
    "`plot()` 関数ではグラフの線の色、形状、データポイントのマーカの種類を、それぞれ以下のように `linestyle`, `color`, `marker` 引数で指定して変更することができます。  \n",
    "それぞれの引数で指定可能な値は以下を参照してください。\n",
    "\n",
    "- [linestyle](https://matplotlib.org/stable/gallery/lines_bars_and_markers/linestyles.html)\n",
    "- [color](https://matplotlib.org/stable/gallery/color/index.html)\n",
    "- [marker](https://matplotlib.org/stable/gallery/lines_bars_and_markers/marker_reference.html)"
   ]
  },
  {
   "cell_type": "code",
   "execution_count": null,
   "metadata": {},
   "outputs": [],
   "source": [
    "# plotするデータ\n",
    "data =[0, 1, 4, 9, 16]\n",
    "x =[0, 1, 2, 3, 4]\n",
    "y =[0, 1, 2, 3, 4]\n",
    "\n",
    "# plot関数で描画。線の形状、色、データポイントのマーカ指定\n",
    "plt.plot(x,y, linestyle='--', color='blue', marker='o') \n",
    "plt.plot(data, linestyle=':', color='green', marker='*');\n",
    "\n",
    "plt.show()"
   ]
  },
  {
   "cell_type": "markdown",
   "metadata": {},
   "source": [
    "`plot()` 関数の `label` 引数にグラフの各線の凡例を文字列として渡し、**`legend()`** 関数を呼ぶことで、グラフ内に凡例を表示できます。  \n",
    "`legend()` 関数の `loc` 引数で凡例を表示する位置を指定することができます。  \n",
    "引数で指定可能な値は以下を参照してください。\n",
    "\n",
    "- [lengend()](https://matplotlib.org/stable/api/_as_gen/matplotlib.pyplot.legend.html)"
   ]
  },
  {
   "cell_type": "code",
   "execution_count": null,
   "metadata": {},
   "outputs": [],
   "source": [
    "# plotするデータ\n",
    "data =[0, 1, 4, 9, 16]\n",
    "x = [0, 1, 2, 3, 4]\n",
    "y = [0, 1, 2, 3, 4]\n",
    "\n",
    "# plot関数で描画。線の形状、色、データポイントのマーカ指定\n",
    "plt.plot(x,y, linestyle='--', color='blue', marker='o', label='linear') \n",
    "plt.plot(data, linestyle=':', color='green', marker='*', label='quad')\n",
    "\n",
    "#凡例を表示\n",
    "plt.legend();\n",
    "\n",
    "plt.show()"
   ]
  },
  {
   "cell_type": "markdown",
   "metadata": {},
   "source": [
    "`pyplot` モジュールでは、以下のようにグラフのタイトルと各軸のラベルを指定して表示することができます。  \n",
    "タイトル、x軸のラベル、y軸のラベル、はそれぞれ **`title()`** 関数、**`xlabel()`** 関数、**`ylabel()`** 関数に文字列を渡して指定します。  \n",
    "また、**`grid()`** 関数を用いるとグリッドを併せて表示することもできます。グリッドを表示させたい場合は、`grid()` 関数に `True` を渡してください。"
   ]
  },
  {
   "cell_type": "code",
   "execution_count": null,
   "metadata": {},
   "outputs": [],
   "source": [
    "# plotするデータ\n",
    "data = [0, 1, 4, 9, 16]\n",
    "x = [0, 1, 2, 3, 4]\n",
    "y = [0, 1, 2, 3, 4]\n",
    "\n",
    "# plot関数で描画。線の形状、色、データポイントのマーカ、凡例を指定\n",
    "plt.plot(x,y, linestyle='--', color='blue', marker='o', label='linear') \n",
    "plt.plot(data, linestyle=':', color='green', marker='*', label='quad')\n",
    "plt.legend()\n",
    "\n",
    "# グラフのタイトル\n",
    "plt.title('My First Graph') \n",
    "\n",
    "#　x, y軸のラベル\n",
    "plt.xlabel('x') \n",
    "plt.ylabel('y')\n",
    "\n",
    "# グリッドの表示\n",
    "plt.grid(True);\n",
    "\n",
    "plt.show()"
   ]
  },
  {
   "cell_type": "markdown",
   "metadata": {},
   "source": [
    "グラフを描画するときのプロット数を増やすことで任意の曲線のグラフを作成することもできます。  \n",
    "以下では、`numpy` モジュールの `arange()` 関数を用いて、$- \\pi$ から $\\pi$ の範囲を `0.1` 刻みでx軸の値を配列として準備しています。  \n",
    "そのx軸の値に対して、`numpy` モジュールの `cos()` 関数と `sin()` 関数を用いて、y軸の値をそれぞれ準備し、cosカーブとsinカーブを描画しています。"
   ]
  },
  {
   "cell_type": "code",
   "execution_count": null,
   "metadata": {},
   "outputs": [],
   "source": [
    "#　グラフのx軸の値となる配列\n",
    "x = np.arange(-np.pi, np.pi, 0.1)\n",
    "\n",
    "# 上記配列をcos, sin関数に渡し, y軸の値として描画\n",
    "plt.plot(x, np.cos(x))\n",
    "plt.plot(x, np.sin(x))\n",
    "\n",
    "# グラフのタイトル\n",
    "plt.title('cos ans sin Curves')  \n",
    "\n",
    "#　x, y軸のラベル\n",
    "plt.xlabel('x')\n",
    "plt.ylabel('y')\n",
    "\n",
    "# グリッドの表示\n",
    "plt.grid(True); \n",
    "\n",
    "plt.show()"
   ]
  },
  {
   "cell_type": "markdown",
   "metadata": {},
   "source": [
    "プロットの数を少なくすると、曲線は直線をつなぎ合わせることで描画されていることがわかります。"
   ]
  },
  {
   "cell_type": "code",
   "execution_count": null,
   "metadata": {},
   "outputs": [],
   "source": [
    "x = np.arange(-np.pi, np.pi, 0.5)\n",
    "plt.plot(x,np.cos(x), marker='o')\n",
    "plt.plot(x,np.sin(x), marker='o')\n",
    "\n",
    "plt.title('cos ans sin Curves')\n",
    "plt.xlabel('x')\n",
    "plt.ylabel('y')\n",
    "\n",
    "plt.grid(True);\n",
    "\n",
    "plt.show()"
   ]
  },
  {
   "attachments": {
    "6485649a-0677-4a7a-b29d-d7dc3eca7000.png": {
     "image/png": "[encoded data removed]"
    }
   },
   "cell_type": "markdown",
   "metadata": {},
   "source": [
    "### 練習問題1\n",
    "\n",
    "`-2` から `2` の範囲を `0.1` 刻みでx軸の値を配列として作成し、そのx軸の値に対して `numpy` モジュールの `exp()` 関数を用いてy軸の値を作成し、$y=e^{x}$ のグラフを描画する関数 `plot_exp` を作成してください。  \n",
    "グラフのタイトル、x軸、y軸のラベル、凡例、グリッド等については、以下に示す完成予想図を参考にしてください。\n",
    "  \n",
    "![1-1.png](attachment:6485649a-0677-4a7a-b29d-d7dc3eca7000.png)"
   ]
  },
  {
   "cell_type": "code",
   "execution_count": null,
   "metadata": {
    "tags": [
     "raises-exception"
    ]
   },
   "outputs": [],
   "source": [
    "def plot_exp():\n",
    "    ..."
   ]
  },
  {
   "attachments": {
    "83afce02-430a-48ab-a825-fa9d06ad4136.png": {
     "image/png": "[encoded data removed]"
    }
   },
   "cell_type": "markdown",
   "metadata": {},
   "source": [
    "### 練習問題2\n",
    "\n",
    "`tokyo-temps.csv` には、気象庁のオープンデータからダウンロードした、東京の平均気温のデータが入っています。具体的には、各行の第2列に気温の値が格納されており、47行目に1875年6月の、48行目に1875年7月の、…、53行目に1875年12月の、54行目に1876年1月の、…という風に2017年1月のデータまでが格納されています。\n",
    "\n",
    "そこで、2つの整数 `year` と `month` を引数として取り、 `year` 年以降の `month` 月の平均気温の値をy軸に、年をx軸に描画した線グラフを描画する関数 `plot_tokyotemps` を作成してください。   \n",
    "グラフのタイトル、x軸、y軸のラベル、凡例、グリッド等については、以下に示す完成予想図を参考にしてください。\n",
    "  \n",
    "![1-2.png](attachment:83afce02-430a-48ab-a825-fa9d06ad4136.png)"
   ]
  },
  {
   "cell_type": "code",
   "execution_count": null,
   "metadata": {
    "tags": [
     "raises-exception"
    ]
   },
   "outputs": [],
   "source": [
    "def plot_tokyotemps(year, month):\n",
    "    ..."
   ]
  },
  {
   "cell_type": "markdown",
   "metadata": {},
   "source": [
    "## 散布図\n",
    "**散布図**は、`pyplot` モジュールの **`scatter()`** 関数を用いて描画できます。  \n",
    "https://matplotlib.org/stable/api/_as_gen/matplotlib.pyplot.scatter.html\n",
    "\n",
    "具体的には、次のように `リストX` と `リストY` （もしくは、 `配列X` と `配列Y`）を引数として与えると、各 `i` に対して、 `(リストX[i], リストY[i])` の位置に点を打ちます。\n",
    "\n",
    "---\n",
    "```Python\n",
    "plt.scatter(リストX, リストY)\n",
    "```\n",
    "---\n",
    "\n",
    "以下では、ランダムに生成した20個の要素からなる配列 x, y の各要素の値の組を点としてプロットした散布図を表示しています。プロットする点のマーカの色や形状は、線グラフの時と同様に、 `color`, `marker` 引数で指定して変更することができます。加えて、`s`, `alpha` 引数で、それぞれマーカの大きさと透明度を指定することができます。"
   ]
  },
  {
   "cell_type": "code",
   "execution_count": null,
   "metadata": {},
   "outputs": [],
   "source": [
    "#　グラフのx軸の値となる配列\n",
    "x = np.random.rand(20)\n",
    "\n",
    "#　グラフのy軸の値となる配列\n",
    "y = np.random.rand(20)\n",
    "\n",
    "# scatter関数で散布図を描画\n",
    "plt.scatter(x, y, s=100, alpha=0.5);"
   ]
  },
  {
   "cell_type": "markdown",
   "metadata": {},
   "source": [
    "以下のように、`plot()` 関数を用いても同様の散布図を表示することができます。具体的には、3番目の引数にプロットする点のマーカの形状を指定することにより実現します。"
   ]
  },
  {
   "cell_type": "code",
   "execution_count": null,
   "metadata": {},
   "outputs": [],
   "source": [
    "x = np.random.rand(20)\n",
    "y = np.random.rand(20)\n",
    "plt.plot(x, y, '*', color='blue');"
   ]
  },
  {
   "attachments": {
    "64816f89-e188-4783-9962-099a5fecf22d.png": {
     "image/png": "[encoded data removed]"
    }
   },
   "cell_type": "markdown",
   "metadata": {},
   "source": [
    "### 練習問題3\n",
    "\n",
    "`tokyo-temps.csv` には、気象庁のオープンデータからダウンロードした、東京の平均気温のデータが入っています。具体的には、各行の第2列に気温の値が格納されており、47行目に1875年6月の、48行目に1875年7月の、…、53行目に1875年12月の、54行目に1876年1月の、…という風に2017年1月のデータまでが格納されています。\n",
    "\n",
    "そこで、1875年以降の平均気温の値をy軸に、月の値をx軸に描画した散布図を表示するとともに、描画したx軸とy軸の値をタプルに格納して返す関数 `scatter_tokyotemps` を作成してください。  \n",
    "グラフのタイトル、x軸、y軸のラベル、凡例、グリッド等については、以下に示す完成予想図を参考にしてください。\n",
    "  \n",
    "![1-3.png](attachment:64816f89-e188-4783-9962-099a5fecf22d.png)"
   ]
  },
  {
   "cell_type": "code",
   "execution_count": null,
   "metadata": {
    "tags": [
     "raises-exception"
    ]
   },
   "outputs": [],
   "source": [
    "def scatter_tokyotemps():\n",
    "    ..."
   ]
  },
  {
   "cell_type": "markdown",
   "metadata": {},
   "source": [
    "## 棒グラフ\n",
    "**棒グラフ**は、`pyplot` モジュールの **`bar()`** 関数を用いて描画できます。  \n",
    "https://matplotlib.org/stable/api/_as_gen/matplotlib.pyplot.bar.html\n",
    "\n",
    "以下では、ランダムに生成した10個の要素からなる配列 `y` の各要素の値を縦の棒グラフで表示しています。  \n",
    "`x` は、x軸上で棒グラフのバーの並ぶ位置を示しています。ここでは、`numpy` モジュールの `arange()` 関数を用いて、`1` から `10` の範囲を `1` 刻みでx軸上のバーの並ぶ位置として配列を準備しています。"
   ]
  },
  {
   "cell_type": "code",
   "execution_count": null,
   "metadata": {},
   "outputs": [],
   "source": [
    "# x軸上で棒の並ぶ位置となる配列\n",
    "x = np.arange(1, 11, 1)\n",
    "\n",
    "#　グラフのy軸の値となる配列\n",
    "y = np.random.rand(10)\n",
    "\n",
    "# bar関数で棒グラフを描画\n",
    "plt.bar(x, y);"
   ]
  },
  {
   "attachments": {
    "55b95dcb-0ddb-4b32-8595-fe08c2f6036e.png": {
     "image/png": "[encoded data removed]"
    }
   },
   "cell_type": "markdown",
   "metadata": {},
   "source": [
    "### 練習問題4\n",
    "\n",
    "`tokyo-temps.csv` には、気象庁のオープンデータからダウンロードした、東京の平均気温のデータが入っています。具体的には、各行の第2列に気温の値が格納されており、47行目に1875年6月の、48行目に1875年7月の、…、53行目に1875年12月の、54行目に1876年1月の、…という風に2017年1月のデータまでが格納されています。\n",
    "\n",
    "そこで、2つの引数 `s_ym`, `n_month` を引数に取り、 `s_ym`（yyyymmの文字列）の年月から その月を含む`n_month` （整数）ヶ月分までの各月の平均気温の値をy軸に、年月の値をx軸に描画した棒グラフを表示する関数 `bar_tokyotemps` を作成してください。  \n",
    "グラフのタイトル、x軸、y軸のラベル、凡例、グリッド等については、以下に示す完成予想図を参考にしてください。  \n",
    "\n",
    "![1-4.png](attachment:55b95dcb-0ddb-4b32-8595-fe08c2f6036e.png)"
   ]
  },
  {
   "cell_type": "code",
   "execution_count": null,
   "metadata": {},
   "outputs": [],
   "source": [
    "def bar_tokyotemps(s_ym, n_month):\n",
    "    ..."
   ]
  },
  {
   "cell_type": "markdown",
   "metadata": {},
   "source": [
    "## ヒストグラム\n",
    "\n",
    "**ヒストグラム**は、`pyplot` モジュールの **`hist()`** 関数を用いて描画できます。  \n",
    "https://matplotlib.org/stable/api/_as_gen/matplotlib.pyplot.hist.html\n",
    "\n",
    "\n",
    "以下では、`numpy` モジュールの `random.randn()` 関数を用いて、正規分布に基づく1000個の数値の要素からなる配列を用意し、ヒストグラムとして表示しています。\n",
    "`hist()` 関数の `bins` 引数でヒストグラムの箱（ビン）の数を指定します。"
   ]
  },
  {
   "cell_type": "code",
   "execution_count": null,
   "metadata": {},
   "outputs": [],
   "source": [
    "# 正規分布に基づく1000個の数値の要素からなる配列 \n",
    "d = np.random.randn(1000)\n",
    "\n",
    "# hist関数でヒストグラムを描画\n",
    "plt.hist(d, bins=20);"
   ]
  },
  {
   "attachments": {
    "f5d736f3-d36f-41a5-baa5-8709f9247122.png": {
     "image/png": "[encoded data removed]"
    }
   },
   "cell_type": "markdown",
   "metadata": {},
   "source": [
    "### 練習問題5\n",
    "\n",
    "`tokyo-temps.csv` には、気象庁のオープンデータからダウンロードした、東京の平均気温のデータが入っています。具体的には、各行の第2列に気温の値が格納されており、47行目に1875年6月の、48行目に1875年7月の、…、53行目に1875年12月の、54行目に1876年1月の、…という風に2017年1月のデータまでが格納されています。\n",
    "\n",
    "そこで、3つの引数 `s_ym`, `n_year`, `bins` を引数に取り、 `s_ym`（yyyymmの文字列）の年月から その月を含む`n_year` （整数）年分までの各月の平均気温の値から `bins` 個のヒストグラムを表示する関数 `hist_tokyotemps` を作成してください。  \n",
    "グラフのタイトル、x軸、y軸のラベル、凡例、グリッド等については、以下に示す完成予想図を参考にしてください。（図は s_ym='200201', n_year=4, bins=15の場合）  \n",
    "\n",
    "![1-5.png](attachment:f5d736f3-d36f-41a5-baa5-8709f9247122.png)"
   ]
  },
  {
   "cell_type": "code",
   "execution_count": null,
   "metadata": {
    "tags": [
     "raises-exception"
    ]
   },
   "outputs": [],
   "source": [
    "\n",
    "def hist_tokyotemps(s_ym, n_year, bins):\n",
    "    ..."
   ]
  },
  {
   "cell_type": "markdown",
   "metadata": {},
   "source": [
    "## グラフの画像ファイル出力\n",
    "**`savefig()`** 関数を用いると、以下のように作成したグラフを画像としてファイルに保存することができます。"
   ]
  },
  {
   "cell_type": "code",
   "execution_count": null,
   "metadata": {},
   "outputs": [],
   "source": [
    "x = np.arange(-np.pi, np.pi, 0.1)\n",
    "plt.plot(x,np.cos(x), label='cos')\n",
    "plt.plot(x,np.sin(x), label='sin')\n",
    "plt.legend()\n",
    "plt.title('cos ans sin Curves')  \n",
    "plt.xlabel('x') \n",
    "plt.ylabel('y') \n",
    "plt.grid(True)\n",
    "\n",
    "# savefig関数でグラフを画像保存\n",
    "plt.savefig('cos_sin.png'); "
   ]
  }
 ],
 "metadata": {
  "kernelspec": {
   "display_name": "Python 3 (ipykernel)",
   "language": "python",
   "name": "python3"
  },
  "language_info": {
   "codemirror_mode": {
    "name": "ipython",
    "version": 3
   },
   "file_extension": ".py",
   "mimetype": "text/x-python",
   "name": "python",
   "nbconvert_exporter": "python",
   "pygments_lexer": "ipython3",
   "version": "3.9.16"
  }
 },
 "nbformat": 4,
 "nbformat_minor": 4
}
