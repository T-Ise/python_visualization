{
 "cells": [
  {
   "cell_type": "markdown",
   "id": "9dc6153e-e60d-4679-b3bb-0e3108de72dc",
   "metadata": {},
   "source": [
    "# Seabornライブラリ\n",
    "Seabornライブラリについて説明します。\n",
    "\n",
    "参考\n",
    "\n",
    "- https://seaborn.pydata.org/index.html\n",
    "\n",
    "**Seaborn**ライブラリは、 `matplotlib` に基づくPythonデータ可視化ライブラリです。  \n",
    "`matplotlib` よりも魅力的で有益な統計グラフを描画するための高レベルのインターフェイスを提供してくれます。  \n",
    "\n",
    "Seabornライブラリを使用するには、まず `seaborn` のモジュールをインポートします。慣例として、同モジュールを `sns` と別名をつけてコードの中で使用します。  \n",
    "より高度な操作のために、matplotlibライブラリの関数を使用することがあるので、同様にインポートします。"
   ]
  },
  {
   "cell_type": "code",
   "execution_count": null,
   "id": "5f6c3aff-07a2-4952-9b48-05b6ad9f6ff5",
   "metadata": {},
   "outputs": [],
   "source": [
    "# Import seaborn\n",
    "import seaborn as sns\n",
    "import matplotlib.pyplot as plt"
   ]
  },
  {
   "cell_type": "markdown",
   "id": "f0f1a7ca-5fef-4ab2-9c6c-fed37c8753b3",
   "metadata": {},
   "source": [
    "Seabornによる可視化は、データの探索と理解に役立ちます。  \n",
    "そのプロット関数は、データフレーム等のデータセット全体を含む配列に対して動作し、必要なセマンティック マッピングと統計的集計を内部で実行して、いい感じのプロットを生成します。  \n",
    "\n",
    "以下に例を示します。"
   ]
  },
  {
   "cell_type": "code",
   "execution_count": null,
   "id": "3501b375-9ffd-4748-a281-0a9f81f8f4cc",
   "metadata": {},
   "outputs": [],
   "source": [
    "import pandas as pd\n",
    "\n",
    "# デフォルトのテーマを設定\n",
    "sns.set_theme()\n",
    "\n",
    "# データセットを読み込み\n",
    "tips = pd.read_csv(\"tips.csv\")\n",
    "\n",
    "# 関係を可視化\n",
    "sns.relplot(\n",
    "    data=tips,\n",
    "    x=\"total_bill\", y=\"tip\", col=\"time\",\n",
    "    hue=\"smoker\", style=\"smoker\", size=\"size\",\n",
    ")\n",
    "\n",
    "# 表示\n",
    "plt.show()"
   ]
  },
  {
   "cell_type": "markdown",
   "id": "99c0cee9-0640-41af-91e3-43c9ad5867d5",
   "metadata": {},
   "source": [
    "Seabornは動作裏でmatplotlibを使用してプロットを描画します。  \n",
    "`sns.set_theme()` 関数を使用することで、使用した以降の全てのmatplotlibプロットの外観を変更します。  \n",
    "デフォルトのテーマ以外にも、いくつかのオプションがある事を確認してください。  \n",
    "\n",
    "https://seaborn.pydata.org/tutorial/aesthetics.html  \n",
    "  \n",
    "基本的には、seabornのインポートと同時に一度だけ実行することをお勧めします。"
   ]
  },
  {
   "cell_type": "code",
   "execution_count": null,
   "id": "ebe6efc5-bffe-470c-9cc9-1ea894fa0c6c",
   "metadata": {},
   "outputs": [],
   "source": [
    "# デフォルトのテーマを設定\n",
    "sns.set_theme()"
   ]
  },
  {
   "cell_type": "markdown",
   "id": "81b493fd-8a38-43df-977d-26941d5c3f6f",
   "metadata": {},
   "source": [
    "例で使用した`relplot()`関数は、seaborn関数を1回のみ使用したにもかかわらず、tipsデータセット内の5つの変数間の関係を示しています。  \n",
    "関数内で変数の名前とその役割のみを指定していることに注目してください。  \n",
    "\n",
    "https://seaborn.pydata.org/generated/seaborn.relplot.html#seaborn.relplot\n",
    "\n",
    "matplotlib を直接使用する場合とは異なり、色の値やマーカー、コードに関してプロット要素の属性を指定する必要はありません。  \n",
    "Seaborn は動作裏で、データフレーム内の値から matplotlib が理解できる引数への変換を処理しました。  \n",
    "この宣言的アプローチにより、matplotlib の制御方法の詳細ではなく、表現したい図に対して集中し続けることができます。"
   ]
  },
  {
   "cell_type": "markdown",
   "id": "fd9bfcad-d486-43af-a632-e1dd2e75e67d",
   "metadata": {},
   "source": [
    "## 統計グラフィックス用の高レベルAPI"
   ]
  },
  {
   "cell_type": "markdown",
   "id": "cc47e890-27ad-4399-964d-6e8fec1a2434",
   "metadata": {},
   "source": [
    "データを視覚化する普遍的に最適な方法というのは存在しません。  \n",
    "探索したいデータに対する様々な質問には、様々なプロットによって答えられます。  \n",
    "Seabornでは、一貫したデータセット指向のAPIを使用して、視覚表現を簡単に切り替えることが出来ます。\n",
    "  \n",
    "`relplot()`関数は、様々な統計的関係を視覚化出来るように接敵されているため、このような名前が付けられています。  \n",
    "散布図は多くの場合において効果的ですが、一つの変数が時間の尺度を表す場合は線で表す方が適切です。  \n",
    "この関数には、次の代替表現に簡単に切り替えることが出来る `kind` という便利なパラメータがあります。"
   ]
  },
  {
   "cell_type": "code",
   "execution_count": null,
   "id": "a005cd01-5c3a-46e3-ab0e-f43eb5805da2",
   "metadata": {},
   "outputs": [],
   "source": [
    "# データセットの読み込み\n",
    "dots = pd.read_csv(\"dots.csv\")\n",
    "\n",
    "sns.relplot(\n",
    "    data=dots, kind=\"line\",\n",
    "    x=\"time\", y=\"firing_rate\", col=\"align\",\n",
    "    hue=\"choice\", size=\"coherence\", style=\"choice\",\n",
    "    facet_kws=dict(sharex=False),\n",
    ")\n",
    "\n",
    "plt.show()"
   ]
  },
  {
   "cell_type": "markdown",
   "id": "795a3ec5-fdde-43d3-b881-743546b6ea03",
   "metadata": {},
   "source": [
    "`size`及び`style`パラメータが散布図と折れ線グラフの両方でどのように使用されているかに注目してください。  \n",
    "散布図ではマーカー領域とシンボルが変更され、折れ線グラフでは線幅と破線が変更されます。  \n",
    "\n",
    "そういった詳細な定義を念頭に置いてコードを書く必要はなかったので、プロットの全体的な構造と、それによって伝えたい情報に集中することが出来ました。"
   ]
  },
  {
   "cell_type": "markdown",
   "id": "34fd46ad-2cd9-4986-886b-bd1b3fd0d79b",
   "metadata": {},
   "source": [
    "## 統計的推定"
   ]
  },
  {
   "cell_type": "markdown",
   "id": "0d46cf36-a0b7-4e2d-99bc-4834da085627",
   "metadata": {},
   "source": [
    "多くの場合、私たちは一つの変数の平均値をほかの変数の関数として求めることがあります。  \n",
    "Seaborn関数の多くは、このような質問に答える為に必要な統計的推定を自動的に実行します。"
   ]
  },
  {
   "cell_type": "code",
   "execution_count": null,
   "id": "c871c856-69e2-4ecb-ba62-6d8860d08f5d",
   "metadata": {},
   "outputs": [],
   "source": [
    "fmri = pd.read_csv(\"fmri.csv\")\n",
    "\n",
    "sns.relplot(\n",
    "    data=fmri, kind=\"line\",\n",
    "    x=\"timepoint\", y=\"signal\", col=\"region\",\n",
    "    hue=\"event\", style=\"event\",\n",
    ")\n",
    "\n",
    "plt.show()"
   ]
  },
  {
   "cell_type": "markdown",
   "id": "b044529e-8ce2-4370-9581-816902cf520f",
   "metadata": {},
   "source": [
    "統計値が推定される場合、seaborn はブートストラップを使用して信頼区間を計算し、推定の不確実性を表すエラーバーを描画します。\n",
    "\n",
    "seaborn の統計的推定は、記述的な統計を超えています。  \n",
    "たとえば、`lmplot()`を使用して線形回帰モデル (およびその不確実性) を含めることで散布図を強化することができます。  \n",
    "\n",
    "https://seaborn.pydata.org/generated/seaborn.lmplot.html#seaborn.lmplot"
   ]
  },
  {
   "cell_type": "code",
   "execution_count": null,
   "id": "90a95960-de99-4caf-9cf0-6e829ae876d9",
   "metadata": {},
   "outputs": [],
   "source": [
    "sns.lmplot(data=tips, x=\"total_bill\", y=\"tip\", col=\"time\", hue=\"smoker\")\n",
    "\n",
    "plt.show()"
   ]
  },
  {
   "cell_type": "markdown",
   "id": "0224a979-3fec-4a4d-a376-20b33472eccd",
   "metadata": {},
   "source": [
    "## 分布表現"
   ]
  },
  {
   "cell_type": "markdown",
   "id": "6c0c8a01-be81-402b-8057-27876d6543fc",
   "metadata": {},
   "source": [
    "統計分析には、データセット内の変数の分布に関する知識が必要です。  \n",
    "seaborn関数は、`displot()`関数のような分布を視覚化するためのいくつかのアプローチをサポートしています。  \n",
    "これらには、ヒストグラムなどの古典的な手法や、カーネル密度推定などの計算集約型のアプローチが含まれます。  \n",
    "\n",
    "https://seaborn.pydata.org/generated/seaborn.displot.html#seaborn.displot"
   ]
  },
  {
   "cell_type": "code",
   "execution_count": null,
   "id": "b68731f3-a079-47ea-8f3a-457b5b7d1743",
   "metadata": {},
   "outputs": [],
   "source": [
    "sns.displot(data=tips, x=\"total_bill\", col=\"time\", kde=True)\n",
    "\n",
    "plt.show()"
   ]
  },
  {
   "cell_type": "markdown",
   "id": "fee713b5-ed21-404c-97a8-1b9338e733e0",
   "metadata": {},
   "source": [
    "データの累積分布関数を計算してプロットするなど、強力ではあるもののあまり知られていない手法についても同様です。"
   ]
  },
  {
   "cell_type": "code",
   "execution_count": null,
   "id": "fab8a3c1-e379-4955-8ef0-e9b6d7890945",
   "metadata": {},
   "outputs": [],
   "source": [
    "sns.displot(data=tips, kind=\"ecdf\", x=\"total_bill\", col=\"time\", hue=\"smoker\", rug=True)\n",
    "\n",
    "plt.show()"
   ]
  },
  {
   "cell_type": "markdown",
   "id": "6ad285cc-6978-497f-bb07-1a54c8050b74",
   "metadata": {},
   "source": [
    "## カテゴリデータのプロット"
   ]
  },
  {
   "cell_type": "markdown",
   "id": "bf064554-5068-440b-8404-1330667153ce",
   "metadata": {},
   "source": [
    "seaborn のいくつかの特殊なプロット タイプは、カテゴリ データの視覚化を目的としています。  \n",
    "これらには、 `catplot()`関数からアクセスできます。  \n",
    "\n",
    "https://seaborn.pydata.org/generated/seaborn.catplot.html#seaborn.catplot\n",
    "\n",
    "これらのプロットは、さまざまなレベルの粒度を提供します。  \n",
    "最も詳細なレベルでは「群」プロット、つまり、点が重ならないようにカテゴリ軸に沿って点の位置を調整する散布図を描画して、すべての観測値を確認したい場合等に有効です。"
   ]
  },
  {
   "cell_type": "code",
   "execution_count": null,
   "id": "691a4054-d0d9-4da1-b706-ea472152b607",
   "metadata": {},
   "outputs": [],
   "source": [
    "sns.catplot(data=tips, kind=\"swarm\", x=\"day\", y=\"total_bill\", hue=\"smoker\")\n",
    "\n",
    "plt.show()"
   ]
  },
  {
   "cell_type": "markdown",
   "id": "03f0879d-99b7-44e7-b0d8-4ff92693238f",
   "metadata": {},
   "source": [
    "また、カーネル密度推定を使用して、ポイントのサンプリング元となる基礎分布を表すこともできます。"
   ]
  },
  {
   "cell_type": "code",
   "execution_count": null,
   "id": "cb7bb194-5941-45ce-9bea-1ec68ca5d31e",
   "metadata": {},
   "outputs": [],
   "source": [
    "sns.catplot(data=tips, kind=\"violin\", x=\"day\", y=\"total_bill\", hue=\"smoker\", split=True)\n",
    "\n",
    "plt.show()"
   ]
  },
  {
   "cell_type": "markdown",
   "id": "dba0aaa6-50d4-49f1-82d6-8da205ed46df",
   "metadata": {},
   "source": [
    "または、各カテゴリ内の平均値とその信頼区間のみを表示することもできます。"
   ]
  },
  {
   "cell_type": "code",
   "execution_count": null,
   "id": "a322bc2c-b7e0-4a35-9ebf-eb527a2a4c00",
   "metadata": {},
   "outputs": [],
   "source": [
    "sns.catplot(data=tips, kind=\"bar\", x=\"day\", y=\"total_bill\", hue=\"smoker\")\n",
    "\n",
    "plt.show()"
   ]
  },
  {
   "cell_type": "markdown",
   "id": "2952fc89-3121-4f01-b572-cd33f90a723b",
   "metadata": {},
   "source": [
    "## 多変量ビュー"
   ]
  },
  {
   "cell_type": "markdown",
   "id": "a5839185-a643-461c-b20a-f0a6016aed6d",
   "metadata": {},
   "source": [
    "一部の Seaborn 関数は、複数の種類のプロットを組み合わせて、データセットの複雑な関係を一度に可視化します。  \n",
    "`jointplot()`関数は、単一の関係に焦点を当てたものです。2変数間の結合分布と各変数の周辺分布をプロットします。　　\n",
    "\n",
    "https://seaborn.pydata.org/generated/seaborn.jointplot.html#seaborn.jointplot"
   ]
  },
  {
   "cell_type": "code",
   "execution_count": null,
   "id": "49c9c22b-8d9d-4279-bf47-33630b071508",
   "metadata": {},
   "outputs": [],
   "source": [
    "penguins = pd.read_csv(\"penguins.csv\")\n",
    "\n",
    "sns.jointplot(data=penguins, x=\"flipper_length_mm\", y=\"bill_length_mm\", hue=\"species\")\n",
    "\n",
    "plt.show()"
   ]
  },
  {
   "cell_type": "markdown",
   "id": "ba9dcff9-2566-402c-8be0-4fa2cb9fc4e7",
   "metadata": {},
   "source": [
    "`pairplot()`関数は、より広い視野を持ち、すべての変数のペア関係と各変数の結合分布と周辺分布をそれぞれ示すことが出来ます。  \n",
    "\n",
    "https://seaborn.pydata.org/generated/seaborn.pairplot.html#seaborn.pairplot"
   ]
  },
  {
   "cell_type": "code",
   "execution_count": null,
   "id": "42ef5777-12be-44ee-a135-26c692e6013b",
   "metadata": {},
   "outputs": [],
   "source": [
    "sns.pairplot(data=penguins, hue=\"species\")\n",
    "\n",
    "plt.show()"
   ]
  },
  {
   "cell_type": "markdown",
   "id": "0647cd5d-5046-404a-a3e1-ad362e4f3a7b",
   "metadata": {},
   "source": [
    "## 独自のデフォルトと柔軟なカスタマイズ"
   ]
  },
  {
   "cell_type": "markdown",
   "id": "63451f8e-90aa-417b-87c4-630969999c1c",
   "metadata": {},
   "source": [
    "Seabornは、単一の関数呼び出しで良い感じのプロットを作成します。  \n",
    "可能な場合、その関数はデータセットに基づいて軸ラベルと凡例を自動的に追加します。\n",
    "\n",
    "多くの場合、Seaborn はデータの特性に基づいてパラメータのデフォルト値も選択します。  \n",
    "たとえば、これまで見てきたカラー マッピングでは、異なる色相 (青、オレンジ、場合によっては緑) を使用して、`hue`変数に割り当てられたカテゴリカル変数のさまざまなレベルを表していました。  \n",
    "数値変数をマッピングする場合、一部の関数は連続勾配に切り替わります。"
   ]
  },
  {
   "cell_type": "code",
   "execution_count": null,
   "id": "fabf1a48-617e-4be8-9847-2ee77234cb5f",
   "metadata": {},
   "outputs": [],
   "source": [
    "sns.relplot(\n",
    "    data=penguins,\n",
    "    x=\"bill_length_mm\", y=\"bill_depth_mm\", hue=\"body_mass_g\"\n",
    ")\n",
    "\n",
    "plt.show()"
   ]
  },
  {
   "cell_type": "markdown",
   "id": "40c67b7f-f797-4d53-9f9d-d74cb3088b66",
   "metadata": {},
   "source": [
    "一度プロットを共有、または公開する準備が出来たら、デフォルトで達成できる出来栄え以上に図をカスタマイズしたいと思うでしょう。  \n",
    "Seabonでは、いくつかのレベルのカスタマイズが可能です。　　\n",
    "\n",
    "すべての Figure に適用される複数の組み込みテーマが定義されており、その関数には各プロットのセマンティック マッピングを変更できる標準化されたパラメーターがあり、追加のキーワード引数が基礎となる matplotlib アーティストに渡されるため、さらに詳細な制御が可能になります。  \n",
    "\n",
    "プロットを作成したら、seaborn API を使用して、または matplotlib レイヤーにドロップダウンして詳細な調整を行うことによって、そのプロパティを変更できます。"
   ]
  },
  {
   "cell_type": "code",
   "execution_count": null,
   "id": "a9e600c9-9f8d-4192-b1f4-cb114fa30109",
   "metadata": {},
   "outputs": [],
   "source": [
    "# デフォルトのテーマを変更\n",
    "sns.set_theme(style=\"ticks\", font_scale=1.25)\n",
    "\n",
    "# seabornで描画し、FacetGridオブジェクトを受け取る\n",
    "g = sns.relplot(\n",
    "    data=penguins,\n",
    "    x=\"bill_length_mm\", y=\"bill_depth_mm\", hue=\"body_mass_g\",\n",
    "    palette=\"crest\", marker=\"x\", s=100,\n",
    ")\n",
    "\n",
    "# 受け取ったFacetGridオブジェクトに対して、プロパティを変更する\n",
    "g.set_axis_labels(\"Bill length (mm)\", \"Bill depth (mm)\", labelpad=10)\n",
    "g.legend.set_title(\"Body mass (g)\")\n",
    "g.figure.set_size_inches(6.5, 4.5)\n",
    "g.ax.margins(.15)\n",
    "g.despine(trim=True)\n",
    "\n",
    "plt.show()"
   ]
  },
  {
   "cell_type": "markdown",
   "id": "f1a5145d-e29e-4d99-8e8c-ece072972235",
   "metadata": {},
   "source": [
    "## matplotlib との関係\n",
    "Seaborn と matplotlib の統合により、ノートブックでの探索的分析、GUI アプリケーションでのリアルタイム操作、多数のラスターおよびベクター形式でのアーカイブ出力など、matplotlib がサポートする多くの環境で Seaborn を使用できるようになります。\n",
    "\n",
    "seaborn 関数のみを使用して生産性を高めることはできますが、グラフィックスを完全にカスタマイズするには、matplotlib の概念と API についての知識が必要になります。  \n",
    "seaborn の新規ユーザーの第一歩は、特定のカスタマイズを実現するために matplotlib 層にドロップダウンする必要があるかどうかを知ることです。  \n",
    "一方、matplotlib から来たユーザーは、知識の多くがそのまま適用できることに気づくでしょう。\n",
    "\n",
    "Matplotlib には包括的で強力な API があります。プロットのほぼすべての属性を好みに合わせて変更できます。  \n",
    "seaborn の高レベル インターフェイスと matplotlib の高度なカスタマイズ機能を組み合わせることで、データを迅速に探索したり、出版品質の最終製品に合わせて調整できるグラフィックを作成したりすることができます。"
   ]
  }
 ],
 "metadata": {
  "kernelspec": {
   "display_name": "Python 3 (ipykernel)",
   "language": "python",
   "name": "python3"
  },
  "language_info": {
   "codemirror_mode": {
    "name": "ipython",
    "version": 3
   },
   "file_extension": ".py",
   "mimetype": "text/x-python",
   "name": "python",
   "nbconvert_exporter": "python",
   "pygments_lexer": "ipython3",
   "version": "3.9.16"
  }
 },
 "nbformat": 4,
 "nbformat_minor": 5
}
